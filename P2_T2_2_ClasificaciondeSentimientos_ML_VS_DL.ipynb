{
  "nbformat": 4,
  "nbformat_minor": 0,
  "metadata": {
    "colab": {
      "name": "P2_T2_2_ClasificaciondeSentimientos_ML_VS_DL.ipynb",
      "provenance": [],
      "collapsed_sections": [],
      "toc_visible": true,
      "include_colab_link": true
    },
    "kernelspec": {
      "name": "python3",
      "display_name": "Python 3"
    },
    "language_info": {
      "name": "python"
    }
  },
  "cells": [
    {
      "cell_type": "markdown",
      "metadata": {
        "id": "view-in-github",
        "colab_type": "text"
      },
      "source": [
        "<a href=\"https://colab.research.google.com/github/mairapineda/Deep_Learning/blob/main/P2_T2_2_ClasificaciondeSentimientos_ML_VS_DL.ipynb\" target=\"_parent\"><img src=\"https://colab.research.google.com/assets/colab-badge.svg\" alt=\"Open In Colab\"/></a>"
      ]
    },
    {
      "cell_type": "markdown",
      "source": [
        "#¿Se puede predecir la depresión?\n",
        "\n",
        "¡Descubrir si una persona está deprimida por el uso de palabras en las redes sociales definitivamente puede ayudar en la cura!"
      ],
      "metadata": {
        "id": "JqKF6SQM9xxQ"
      }
    },
    {
      "cell_type": "markdown",
      "source": [
        "#Análisis Sentimental"
      ],
      "metadata": {
        "id": "2uU1X3kHmEDs"
      }
    },
    {
      "cell_type": "markdown",
      "source": [
        "#Machine Learning classic (LogisticRegression)"
      ],
      "metadata": {
        "id": "iyUHfnZl96-y"
      }
    },
    {
      "cell_type": "code",
      "source": [
        "import matplotlib.pyplot as plt\n",
        "%matplotlib inline"
      ],
      "metadata": {
        "id": "wRjyDzhmmHYp"
      },
      "execution_count": 1,
      "outputs": []
    },
    {
      "cell_type": "markdown",
      "source": [
        "##P0.descargando librerias\n",
        "\n",
        "---\n",
        "*   https://stackabuse.com/python-for-nlp-introduction-to-the-pattern-library/\n",
        "\n",
        "\n"
      ],
      "metadata": {
        "id": "A59i_bDf6ZZd"
      }
    },
    {
      "cell_type": "code",
      "execution_count": 2,
      "metadata": {
        "id": "sRK86J_QHkzD",
        "colab": {
          "base_uri": "https://localhost:8080/"
        },
        "outputId": "0d8a230e-6ea3-4a05-c107-2b12170c26bb"
      },
      "outputs": [
        {
          "output_type": "stream",
          "name": "stdout",
          "text": [
            "Collecting pyprind\n",
            "  Downloading PyPrind-2.11.3-py2.py3-none-any.whl (8.4 kB)\n",
            "Installing collected packages: pyprind\n",
            "Successfully installed pyprind-2.11.3\n"
          ]
        }
      ],
      "source": [
        "!pip install pyprind"
      ]
    },
    {
      "cell_type": "code",
      "source": [
        "import nltk\n",
        "nltk.download('stopwords') #Descargamos la lista de StopWord (pronombres, artículos, condicionales, demostrativos, adverbios de tiempo y lugar)"
      ],
      "metadata": {
        "colab": {
          "base_uri": "https://localhost:8080/"
        },
        "id": "QDBYoj1VJyv3",
        "outputId": "f4011345-e183-4733-a5ab-9bcdb600fec8"
      },
      "execution_count": 3,
      "outputs": [
        {
          "output_type": "stream",
          "name": "stdout",
          "text": [
            "[nltk_data] Downloading package stopwords to /root/nltk_data...\n",
            "[nltk_data]   Unzipping corpora/stopwords.zip.\n"
          ]
        },
        {
          "output_type": "execute_result",
          "data": {
            "text/plain": [
              "True"
            ]
          },
          "metadata": {},
          "execution_count": 3
        }
      ]
    },
    {
      "cell_type": "code",
      "source": [
        "!pip install pattern  #libreria para PLN (Tokenización, derivación, etiquetado de POS, análisis de sentimientos, etc)"
      ],
      "metadata": {
        "id": "N4qcFCDTID7B",
        "colab": {
          "base_uri": "https://localhost:8080/"
        },
        "outputId": "8283f367-0c61-4048-8f73-5ec5b5cf30be"
      },
      "execution_count": 4,
      "outputs": [
        {
          "output_type": "stream",
          "name": "stdout",
          "text": [
            "Collecting pattern\n",
            "  Downloading Pattern-3.6.0.tar.gz (22.2 MB)\n",
            "\u001b[K     |████████████████████████████████| 22.2 MB 1.6 MB/s \n",
            "\u001b[?25hRequirement already satisfied: future in /usr/local/lib/python3.7/dist-packages (from pattern) (0.16.0)\n",
            "Collecting backports.csv\n",
            "  Downloading backports.csv-1.0.7-py2.py3-none-any.whl (12 kB)\n",
            "Collecting mysqlclient\n",
            "  Downloading mysqlclient-2.1.0.tar.gz (87 kB)\n",
            "\u001b[K     |████████████████████████████████| 87 kB 6.4 MB/s \n",
            "\u001b[?25hRequirement already satisfied: beautifulsoup4 in /usr/local/lib/python3.7/dist-packages (from pattern) (4.6.3)\n",
            "Requirement already satisfied: lxml in /usr/local/lib/python3.7/dist-packages (from pattern) (4.2.6)\n",
            "Collecting feedparser\n",
            "  Downloading feedparser-6.0.8-py3-none-any.whl (81 kB)\n",
            "\u001b[K     |████████████████████████████████| 81 kB 7.6 MB/s \n",
            "\u001b[?25hCollecting pdfminer.six\n",
            "  Downloading pdfminer.six-20220319-py3-none-any.whl (5.6 MB)\n",
            "\u001b[K     |████████████████████████████████| 5.6 MB 13.9 MB/s \n",
            "\u001b[?25hRequirement already satisfied: numpy in /usr/local/lib/python3.7/dist-packages (from pattern) (1.21.6)\n",
            "Requirement already satisfied: scipy in /usr/local/lib/python3.7/dist-packages (from pattern) (1.4.1)\n",
            "Requirement already satisfied: nltk in /usr/local/lib/python3.7/dist-packages (from pattern) (3.2.5)\n",
            "Collecting python-docx\n",
            "  Downloading python-docx-0.8.11.tar.gz (5.6 MB)\n",
            "\u001b[K     |████████████████████████████████| 5.6 MB 27.2 MB/s \n",
            "\u001b[?25hCollecting cherrypy\n",
            "  Downloading CherryPy-18.6.1-py2.py3-none-any.whl (419 kB)\n",
            "\u001b[K     |████████████████████████████████| 419 kB 39.4 MB/s \n",
            "\u001b[?25hRequirement already satisfied: requests in /usr/local/lib/python3.7/dist-packages (from pattern) (2.23.0)\n",
            "Collecting zc.lockfile\n",
            "  Downloading zc.lockfile-2.0-py2.py3-none-any.whl (9.7 kB)\n",
            "Requirement already satisfied: more-itertools in /usr/local/lib/python3.7/dist-packages (from cherrypy->pattern) (8.12.0)\n",
            "Collecting portend>=2.1.1\n",
            "  Downloading portend-3.1.0-py3-none-any.whl (5.3 kB)\n",
            "Collecting cheroot>=8.2.1\n",
            "  Downloading cheroot-8.6.0-py2.py3-none-any.whl (104 kB)\n",
            "\u001b[K     |████████████████████████████████| 104 kB 35.0 MB/s \n",
            "\u001b[?25hCollecting jaraco.collections\n",
            "  Downloading jaraco.collections-3.5.1-py3-none-any.whl (10 kB)\n",
            "Collecting jaraco.functools\n",
            "  Downloading jaraco.functools-3.5.0-py3-none-any.whl (7.0 kB)\n",
            "Requirement already satisfied: six>=1.11.0 in /usr/local/lib/python3.7/dist-packages (from cheroot>=8.2.1->cherrypy->pattern) (1.15.0)\n",
            "Collecting tempora>=1.8\n",
            "  Downloading tempora-5.0.1-py3-none-any.whl (15 kB)\n",
            "Requirement already satisfied: pytz in /usr/local/lib/python3.7/dist-packages (from tempora>=1.8->portend>=2.1.1->cherrypy->pattern) (2022.1)\n",
            "Collecting sgmllib3k\n",
            "  Downloading sgmllib3k-1.0.0.tar.gz (5.8 kB)\n",
            "Collecting jaraco.text\n",
            "  Downloading jaraco.text-3.7.0-py3-none-any.whl (8.6 kB)\n",
            "Collecting jaraco.classes\n",
            "  Downloading jaraco.classes-3.2.1-py3-none-any.whl (5.6 kB)\n",
            "Collecting jaraco.context>=4.1\n",
            "  Downloading jaraco.context-4.1.1-py3-none-any.whl (4.4 kB)\n",
            "Requirement already satisfied: importlib-resources in /usr/local/lib/python3.7/dist-packages (from jaraco.text->jaraco.collections->cherrypy->pattern) (5.7.1)\n",
            "Requirement already satisfied: zipp>=3.1.0 in /usr/local/lib/python3.7/dist-packages (from importlib-resources->jaraco.text->jaraco.collections->cherrypy->pattern) (3.8.0)\n",
            "Requirement already satisfied: chardet in /usr/local/lib/python3.7/dist-packages (from pdfminer.six->pattern) (3.0.4)\n",
            "Collecting cryptography\n",
            "  Downloading cryptography-37.0.2-cp36-abi3-manylinux_2_24_x86_64.whl (4.0 MB)\n",
            "\u001b[K     |████████████████████████████████| 4.0 MB 29.9 MB/s \n",
            "\u001b[?25hRequirement already satisfied: cffi>=1.12 in /usr/local/lib/python3.7/dist-packages (from cryptography->pdfminer.six->pattern) (1.15.0)\n",
            "Requirement already satisfied: pycparser in /usr/local/lib/python3.7/dist-packages (from cffi>=1.12->cryptography->pdfminer.six->pattern) (2.21)\n",
            "Requirement already satisfied: urllib3!=1.25.0,!=1.25.1,<1.26,>=1.21.1 in /usr/local/lib/python3.7/dist-packages (from requests->pattern) (1.24.3)\n",
            "Requirement already satisfied: idna<3,>=2.5 in /usr/local/lib/python3.7/dist-packages (from requests->pattern) (2.10)\n",
            "Requirement already satisfied: certifi>=2017.4.17 in /usr/local/lib/python3.7/dist-packages (from requests->pattern) (2021.10.8)\n",
            "Requirement already satisfied: setuptools in /usr/local/lib/python3.7/dist-packages (from zc.lockfile->cherrypy->pattern) (57.4.0)\n",
            "Building wheels for collected packages: pattern, mysqlclient, python-docx, sgmllib3k\n",
            "  Building wheel for pattern (setup.py) ... \u001b[?25l\u001b[?25hdone\n",
            "  Created wheel for pattern: filename=Pattern-3.6-py3-none-any.whl size=22332721 sha256=efbfdf7b293e1dc218d37cddd9218a74b0a336589c51a0603a36d93b6e31611e\n",
            "  Stored in directory: /root/.cache/pip/wheels/8d/1f/4e/9b67afd2430d55dee90bd57618dd7d899f1323e5852c465682\n",
            "  Building wheel for mysqlclient (setup.py) ... \u001b[?25l\u001b[?25hdone\n",
            "  Created wheel for mysqlclient: filename=mysqlclient-2.1.0-cp37-cp37m-linux_x86_64.whl size=99970 sha256=fb0a3496d766c0db003b314bfc5bd7a9c38d611f208a57514ea0aceb324436a0\n",
            "  Stored in directory: /root/.cache/pip/wheels/97/d4/df/08cd6e1fa4a8691b268ab254bd0fa589827ab5b65638c010b4\n",
            "  Building wheel for python-docx (setup.py) ... \u001b[?25l\u001b[?25hdone\n",
            "  Created wheel for python-docx: filename=python_docx-0.8.11-py3-none-any.whl size=184507 sha256=81573dbbfb43ede18a4cca36cd2b25f75548b9af0519833e30e0d95b59a5bd43\n",
            "  Stored in directory: /root/.cache/pip/wheels/f6/6f/b9/d798122a8b55b74ad30b5f52b01482169b445fbb84a11797a6\n",
            "  Building wheel for sgmllib3k (setup.py) ... \u001b[?25l\u001b[?25hdone\n",
            "  Created wheel for sgmllib3k: filename=sgmllib3k-1.0.0-py3-none-any.whl size=6066 sha256=7fac6558f00e73e72f58df16d3b403f1b3209191a41494fffed9cde0b18da8fd\n",
            "  Stored in directory: /root/.cache/pip/wheels/73/ad/a4/0dff4a6ef231fc0dfa12ffbac2a36cebfdddfe059f50e019aa\n",
            "Successfully built pattern mysqlclient python-docx sgmllib3k\n",
            "Installing collected packages: jaraco.functools, jaraco.context, tempora, jaraco.text, jaraco.classes, zc.lockfile, sgmllib3k, portend, jaraco.collections, cryptography, cheroot, python-docx, pdfminer.six, mysqlclient, feedparser, cherrypy, backports.csv, pattern\n",
            "Successfully installed backports.csv-1.0.7 cheroot-8.6.0 cherrypy-18.6.1 cryptography-37.0.2 feedparser-6.0.8 jaraco.classes-3.2.1 jaraco.collections-3.5.1 jaraco.context-4.1.1 jaraco.functools-3.5.0 jaraco.text-3.7.0 mysqlclient-2.1.0 pattern-3.6 pdfminer.six-20220319 portend-3.1.0 python-docx-0.8.11 sgmllib3k-1.0.0 tempora-5.0.1 zc.lockfile-2.0\n"
          ]
        }
      ]
    },
    {
      "cell_type": "markdown",
      "source": [
        "##P1.Importando librerias"
      ],
      "metadata": {
        "id": "sFvnyohl6q7U"
      }
    },
    {
      "cell_type": "markdown",
      "source": [
        "###P1.1 Genericas"
      ],
      "metadata": {
        "id": "sc4QJGuN6uH5"
      }
    },
    {
      "cell_type": "code",
      "source": [
        "import urllib.request\n",
        "import numpy as np\n",
        "import pandas as pd \n",
        "import os\n",
        "import time\n",
        "import sys\n",
        "from zipfile import ZipFile       #para descomprimir ZIP\n",
        "#-----librerias para trabajar PLN\n",
        "import nltk\n",
        "#from pattern.es import lemma\n",
        "from nltk import word_tokenize\n",
        "from nltk.corpus import stopwords\n",
        "\n",
        "#----librerias para normalización de textos\n",
        "import re\n",
        "from unicodedata import normalize"
      ],
      "metadata": {
        "id": "biLcEjex6xC6"
      },
      "execution_count": 5,
      "outputs": []
    },
    {
      "cell_type": "markdown",
      "source": [
        "###P1.2 Machine Learning"
      ],
      "metadata": {
        "id": "dyqlGEY66xlR"
      }
    },
    {
      "cell_type": "code",
      "source": [
        "from sklearn.linear_model import LogisticRegression\n",
        "from sklearn.model_selection import train_test_split\n",
        "\n",
        "#CountVectorizer proporcionado por la biblioteca scikit-learn para vectorizar oraciones.\n",
        "from sklearn.feature_extraction.text import CountVectorizer"
      ],
      "metadata": {
        "id": "5gO12J6j624V"
      },
      "execution_count": 6,
      "outputs": []
    },
    {
      "cell_type": "markdown",
      "source": [
        "##P2. descargando DataSet"
      ],
      "metadata": {
        "id": "s7A6niLL7L9G"
      }
    },
    {
      "cell_type": "code",
      "source": [
        "def reporthook(count, block_size, total_size):\n",
        "    global start_time\n",
        "    if count == 0:\n",
        "        start_time = time.time()\n",
        "        return\n",
        "    duration = time.time() - start_time\n",
        "    progress_size = int(count * block_size)\n",
        "    speed = progress_size / (1024.**2 * duration)\n",
        "    percent = count * block_size * 100. / total_size\n",
        "    sys.stdout.write(\"\\r%d%% | %d MB | %.2f MB/s | %d segundos transcurrido\" %\n",
        "                    (percent, progress_size / (1024.**2), speed, duration))\n",
        "    sys.stdout.flush()\n",
        "\n",
        "url_github_Model='https://raw.githubusercontent.com/mairapineda/Deep_Learning/main/Database/sentiment_tweets3.csv'\n",
        "urllib.request.urlretrieve(url_github_Model,\n",
        "                           'DataSetOpiniones.csv', \n",
        "                           reporthook)"
      ],
      "metadata": {
        "colab": {
          "base_uri": "https://localhost:8080/"
        },
        "id": "FUpdOUX27P7j",
        "outputId": "87b19b91-a104-4100-92dc-d6d4350c22ad"
      },
      "execution_count": 8,
      "outputs": [
        {
          "output_type": "stream",
          "name": "stdout",
          "text": [
            "100% | 1 MB | 3.42 MB/s | 0 segundos transcurrido"
          ]
        },
        {
          "output_type": "execute_result",
          "data": {
            "text/plain": [
              "('DataSetOpiniones.csv', <http.client.HTTPMessage at 0x7f856c43b290>)"
            ]
          },
          "metadata": {},
          "execution_count": 8
        }
      ]
    },
    {
      "cell_type": "markdown",
      "source": [
        "#Sentimental Analysis for Tweets\n",
        "El Análisis Sentimental puede ser muy útil para descubrir la depresión y curarla antes de que alguien se meta en serios problemas.\n",
        "\n",
        "¿La persona tiene depresión? 0 para NO y 1 significa SÍ"
      ],
      "metadata": {
        "id": "c9g1Orlbj1U8"
      }
    },
    {
      "cell_type": "markdown",
      "source": [
        "###P3.2 carga los CSV en Dataframe"
      ],
      "metadata": {
        "id": "Mhaaszhb9NLc"
      }
    },
    {
      "cell_type": "code",
      "source": [
        "filepath_dict = {'tweets':   '/content/DataSetOpiniones.csv'}\n",
        "\n",
        "df_list = []\n",
        "for source, filepath in filepath_dict.items():\n",
        "    df = pd.read_csv(filepath, names=['sentence', 'label'])\n",
        "    df['source'] = source  # Add another column filled with the source name\n",
        "    df_list.append(df)\n",
        "\n",
        "df = pd.concat(df_list)\n",
        "df.head(10)"
      ],
      "metadata": {
        "colab": {
          "base_uri": "https://localhost:8080/",
          "height": 363
        },
        "id": "6Nd1B6Nn9UQs",
        "outputId": "42ba16f5-8556-4953-b86e-4e2482952eec"
      },
      "execution_count": 10,
      "outputs": [
        {
          "output_type": "execute_result",
          "data": {
            "text/plain": [
              "                                               sentence  label  source\n",
              "106   just had a real good moment. i missssssssss hi...      0  tweets\n",
              "217          is reading manga  http://plurk.com/p/mzp1e      0  tweets\n",
              "220   @comeagainjen http://twitpic.com/2y2lx - http:...      0  tweets\n",
              "288   @lapcat Need to send 'em to my accountant tomo...      0  tweets\n",
              "540       ADD ME ON MYSPACE!!!  myspace.com/LookThunder      0  tweets\n",
              "624               so sleepy. good times tonight though       0  tweets\n",
              "701   @SilkCharm re: #nbn as someone already said, d...      0  tweets\n",
              "808                  23 or 24ï¿½C possible today. Nice       0  tweets\n",
              "1193        nite twitterville  workout in the am  -ciao      0  tweets\n",
              "1324    @daNanner Night, darlin'!  Sweet dreams to you       0  tweets"
            ],
            "text/html": [
              "\n",
              "  <div id=\"df-b6b9496c-fca3-42b7-ab16-80576ce8e3d2\">\n",
              "    <div class=\"colab-df-container\">\n",
              "      <div>\n",
              "<style scoped>\n",
              "    .dataframe tbody tr th:only-of-type {\n",
              "        vertical-align: middle;\n",
              "    }\n",
              "\n",
              "    .dataframe tbody tr th {\n",
              "        vertical-align: top;\n",
              "    }\n",
              "\n",
              "    .dataframe thead th {\n",
              "        text-align: right;\n",
              "    }\n",
              "</style>\n",
              "<table border=\"1\" class=\"dataframe\">\n",
              "  <thead>\n",
              "    <tr style=\"text-align: right;\">\n",
              "      <th></th>\n",
              "      <th>sentence</th>\n",
              "      <th>label</th>\n",
              "      <th>source</th>\n",
              "    </tr>\n",
              "  </thead>\n",
              "  <tbody>\n",
              "    <tr>\n",
              "      <th>106</th>\n",
              "      <td>just had a real good moment. i missssssssss hi...</td>\n",
              "      <td>0</td>\n",
              "      <td>tweets</td>\n",
              "    </tr>\n",
              "    <tr>\n",
              "      <th>217</th>\n",
              "      <td>is reading manga  http://plurk.com/p/mzp1e</td>\n",
              "      <td>0</td>\n",
              "      <td>tweets</td>\n",
              "    </tr>\n",
              "    <tr>\n",
              "      <th>220</th>\n",
              "      <td>@comeagainjen http://twitpic.com/2y2lx - http:...</td>\n",
              "      <td>0</td>\n",
              "      <td>tweets</td>\n",
              "    </tr>\n",
              "    <tr>\n",
              "      <th>288</th>\n",
              "      <td>@lapcat Need to send 'em to my accountant tomo...</td>\n",
              "      <td>0</td>\n",
              "      <td>tweets</td>\n",
              "    </tr>\n",
              "    <tr>\n",
              "      <th>540</th>\n",
              "      <td>ADD ME ON MYSPACE!!!  myspace.com/LookThunder</td>\n",
              "      <td>0</td>\n",
              "      <td>tweets</td>\n",
              "    </tr>\n",
              "    <tr>\n",
              "      <th>624</th>\n",
              "      <td>so sleepy. good times tonight though</td>\n",
              "      <td>0</td>\n",
              "      <td>tweets</td>\n",
              "    </tr>\n",
              "    <tr>\n",
              "      <th>701</th>\n",
              "      <td>@SilkCharm re: #nbn as someone already said, d...</td>\n",
              "      <td>0</td>\n",
              "      <td>tweets</td>\n",
              "    </tr>\n",
              "    <tr>\n",
              "      <th>808</th>\n",
              "      <td>23 or 24ï¿½C possible today. Nice</td>\n",
              "      <td>0</td>\n",
              "      <td>tweets</td>\n",
              "    </tr>\n",
              "    <tr>\n",
              "      <th>1193</th>\n",
              "      <td>nite twitterville  workout in the am  -ciao</td>\n",
              "      <td>0</td>\n",
              "      <td>tweets</td>\n",
              "    </tr>\n",
              "    <tr>\n",
              "      <th>1324</th>\n",
              "      <td>@daNanner Night, darlin'!  Sweet dreams to you</td>\n",
              "      <td>0</td>\n",
              "      <td>tweets</td>\n",
              "    </tr>\n",
              "  </tbody>\n",
              "</table>\n",
              "</div>\n",
              "      <button class=\"colab-df-convert\" onclick=\"convertToInteractive('df-b6b9496c-fca3-42b7-ab16-80576ce8e3d2')\"\n",
              "              title=\"Convert this dataframe to an interactive table.\"\n",
              "              style=\"display:none;\">\n",
              "        \n",
              "  <svg xmlns=\"http://www.w3.org/2000/svg\" height=\"24px\"viewBox=\"0 0 24 24\"\n",
              "       width=\"24px\">\n",
              "    <path d=\"M0 0h24v24H0V0z\" fill=\"none\"/>\n",
              "    <path d=\"M18.56 5.44l.94 2.06.94-2.06 2.06-.94-2.06-.94-.94-2.06-.94 2.06-2.06.94zm-11 1L8.5 8.5l.94-2.06 2.06-.94-2.06-.94L8.5 2.5l-.94 2.06-2.06.94zm10 10l.94 2.06.94-2.06 2.06-.94-2.06-.94-.94-2.06-.94 2.06-2.06.94z\"/><path d=\"M17.41 7.96l-1.37-1.37c-.4-.4-.92-.59-1.43-.59-.52 0-1.04.2-1.43.59L10.3 9.45l-7.72 7.72c-.78.78-.78 2.05 0 2.83L4 21.41c.39.39.9.59 1.41.59.51 0 1.02-.2 1.41-.59l7.78-7.78 2.81-2.81c.8-.78.8-2.07 0-2.86zM5.41 20L4 18.59l7.72-7.72 1.47 1.35L5.41 20z\"/>\n",
              "  </svg>\n",
              "      </button>\n",
              "      \n",
              "  <style>\n",
              "    .colab-df-container {\n",
              "      display:flex;\n",
              "      flex-wrap:wrap;\n",
              "      gap: 12px;\n",
              "    }\n",
              "\n",
              "    .colab-df-convert {\n",
              "      background-color: #E8F0FE;\n",
              "      border: none;\n",
              "      border-radius: 50%;\n",
              "      cursor: pointer;\n",
              "      display: none;\n",
              "      fill: #1967D2;\n",
              "      height: 32px;\n",
              "      padding: 0 0 0 0;\n",
              "      width: 32px;\n",
              "    }\n",
              "\n",
              "    .colab-df-convert:hover {\n",
              "      background-color: #E2EBFA;\n",
              "      box-shadow: 0px 1px 2px rgba(60, 64, 67, 0.3), 0px 1px 3px 1px rgba(60, 64, 67, 0.15);\n",
              "      fill: #174EA6;\n",
              "    }\n",
              "\n",
              "    [theme=dark] .colab-df-convert {\n",
              "      background-color: #3B4455;\n",
              "      fill: #D2E3FC;\n",
              "    }\n",
              "\n",
              "    [theme=dark] .colab-df-convert:hover {\n",
              "      background-color: #434B5C;\n",
              "      box-shadow: 0px 1px 3px 1px rgba(0, 0, 0, 0.15);\n",
              "      filter: drop-shadow(0px 1px 2px rgba(0, 0, 0, 0.3));\n",
              "      fill: #FFFFFF;\n",
              "    }\n",
              "  </style>\n",
              "\n",
              "      <script>\n",
              "        const buttonEl =\n",
              "          document.querySelector('#df-b6b9496c-fca3-42b7-ab16-80576ce8e3d2 button.colab-df-convert');\n",
              "        buttonEl.style.display =\n",
              "          google.colab.kernel.accessAllowed ? 'block' : 'none';\n",
              "\n",
              "        async function convertToInteractive(key) {\n",
              "          const element = document.querySelector('#df-b6b9496c-fca3-42b7-ab16-80576ce8e3d2');\n",
              "          const dataTable =\n",
              "            await google.colab.kernel.invokeFunction('convertToInteractive',\n",
              "                                                     [key], {});\n",
              "          if (!dataTable) return;\n",
              "\n",
              "          const docLinkHtml = 'Like what you see? Visit the ' +\n",
              "            '<a target=\"_blank\" href=https://colab.research.google.com/notebooks/data_table.ipynb>data table notebook</a>'\n",
              "            + ' to learn more about interactive tables.';\n",
              "          element.innerHTML = '';\n",
              "          dataTable['output_type'] = 'display_data';\n",
              "          await google.colab.output.renderOutput(dataTable, element);\n",
              "          const docLink = document.createElement('div');\n",
              "          docLink.innerHTML = docLinkHtml;\n",
              "          element.appendChild(docLink);\n",
              "        }\n",
              "      </script>\n",
              "    </div>\n",
              "  </div>\n",
              "  "
            ]
          },
          "metadata": {},
          "execution_count": 10
        }
      ]
    },
    {
      "cell_type": "markdown",
      "source": [
        "##P4. conociendo la data (BagWord)"
      ],
      "metadata": {
        "id": "dzuLqVT4_aTz"
      }
    },
    {
      "cell_type": "code",
      "source": [
        "print('RowsXcolums-->',df.shape)\n",
        "print('tweets-->',sum(df['source'] == 'tweets'))\n"
      ],
      "metadata": {
        "colab": {
          "base_uri": "https://localhost:8080/"
        },
        "id": "Iu8Sr3DNDTbY",
        "outputId": "d9b5bf56-fdb1-4e34-b765-9303331e674e"
      },
      "execution_count": 39,
      "outputs": [
        {
          "output_type": "stream",
          "name": "stdout",
          "text": [
            "RowsXcolums--> (10314, 3)\n",
            "tweets--> 10314\n"
          ]
        }
      ]
    },
    {
      "cell_type": "markdown",
      "source": [
        "###P4.1 usando CountVectorizer (ejemplo)\n",
        "\n",
        "---\n",
        "\n",
        "CountVectorizer proporcionado por la biblioteca scikit-learn  realiza la tokenización que separa las oraciones en un conjunto de tokens ordenado por vocabulario. Además, elimina la puntuación y los caracteres especiales y puede aplicar otro preprocesamiento a cada palabra"
      ],
      "metadata": {
        "id": "EqzNjPpy_fVh"
      }
    },
    {
      "cell_type": "code",
      "source": [
        "#obtener las palabras que aparecen de acuerdo con el Orden del vocabulario\n",
        "oraciones = ['My doggy is so cute', 'depression: im always here for u, darling']\n",
        "vectorizer = CountVectorizer(min_df=0, lowercase=True,stop_words=stopwords.words('english'))   \n",
        "     \n",
        "vectorizer.fit(oraciones)"
      ],
      "metadata": {
        "colab": {
          "base_uri": "https://localhost:8080/"
        },
        "id": "tPSOifC8_q8G",
        "outputId": "6a7e7305-0230-43c7-daf4-5727e839a68a"
      },
      "execution_count": 41,
      "outputs": [
        {
          "output_type": "execute_result",
          "data": {
            "text/plain": [
              "CountVectorizer(min_df=0,\n",
              "                stop_words=['i', 'me', 'my', 'myself', 'we', 'our', 'ours',\n",
              "                            'ourselves', 'you', \"you're\", \"you've\", \"you'll\",\n",
              "                            \"you'd\", 'your', 'yours', 'yourself', 'yourselves',\n",
              "                            'he', 'him', 'his', 'himself', 'she', \"she's\",\n",
              "                            'her', 'hers', 'herself', 'it', \"it's\", 'its',\n",
              "                            'itself', ...])"
            ]
          },
          "metadata": {},
          "execution_count": 41
        }
      ]
    },
    {
      "cell_type": "code",
      "source": [
        "vectorizer.get_feature_names_out()"
      ],
      "metadata": {
        "colab": {
          "base_uri": "https://localhost:8080/"
        },
        "id": "DOAA-noR9umj",
        "outputId": "76dbad10-9160-4a34-ee50-ce6e02848d54"
      },
      "execution_count": 42,
      "outputs": [
        {
          "output_type": "execute_result",
          "data": {
            "text/plain": [
              "array(['always', 'cute', 'darling', 'depression', 'doggy', 'im'],\n",
              "      dtype=object)"
            ]
          },
          "metadata": {},
          "execution_count": 42
        }
      ]
    },
    {
      "cell_type": "code",
      "source": [
        "vectorizer.vocabulary_"
      ],
      "metadata": {
        "colab": {
          "base_uri": "https://localhost:8080/"
        },
        "id": "2XrAVY8a94ck",
        "outputId": "e751fe5d-7876-40d7-ef9c-d7bebc7b4562"
      },
      "execution_count": 43,
      "outputs": [
        {
          "output_type": "execute_result",
          "data": {
            "text/plain": [
              "{'always': 0, 'cute': 1, 'darling': 2, 'depression': 3, 'doggy': 4, 'im': 5}"
            ]
          },
          "metadata": {},
          "execution_count": 43
        }
      ]
    },
    {
      "cell_type": "code",
      "source": [
        "#bolsa de palabras (Cada documento se representa como un vector)\n",
        "#vectorizer.transform(oraciones).toarray()\n",
        "array=vectorizer.transform(oraciones)\n",
        "print(array.toarray())"
      ],
      "metadata": {
        "colab": {
          "base_uri": "https://localhost:8080/"
        },
        "id": "dCUjbpmWAxFn",
        "outputId": "f5a500af-5f91-4855-cc65-f64750154843"
      },
      "execution_count": 44,
      "outputs": [
        {
          "output_type": "stream",
          "name": "stdout",
          "text": [
            "[[0 1 0 0 1 0]\n",
            " [1 0 1 1 0 1]]\n"
          ]
        }
      ]
    },
    {
      "cell_type": "markdown",
      "source": [
        "###P4.2 usando CountVectorizer con datos de Sentimental Analysis for Tweets"
      ],
      "metadata": {
        "id": "6gS_855WC61s"
      }
    },
    {
      "cell_type": "code",
      "source": [
        "df_tweet = df[df['source'] == 'tweets']\n",
        "sentences = df_tweet['sentence'].values\n",
        "y = df_tweet['label'].values\n",
        "\n",
        "sentences_train, sentences_test, y_train, y_test = train_test_split(\n",
        "   sentences, y, test_size=0.25, random_state=1000)"
      ],
      "metadata": {
        "id": "mTMLugz1DC6k"
      },
      "execution_count": 45,
      "outputs": []
    },
    {
      "cell_type": "markdown",
      "source": [
        "###P4.3 generar BagWords \n",
        "\n",
        "---\n",
        "\n"
      ],
      "metadata": {
        "id": "EQGgkWRcFlMH"
      }
    },
    {
      "cell_type": "code",
      "source": [
        "#generamos los vectores de palabras (750x1681) registrosXtamaño del vocabulario\n",
        "#vectorizer = CountVectorizer(min_df=0, lowercase=True,stop_words=stopwords.words('spanish'))   \n",
        "vectorizer = CountVectorizer(min_df=0, lowercase=True)   \n",
        "vectorizer.fit(sentences_train)\n",
        "\n",
        "X_train = vectorizer.transform(sentences_train)\n",
        "X_test  = vectorizer.transform(sentences_test)\n",
        "#print(X_train.toarray())"
      ],
      "metadata": {
        "id": "AGtj_R88F9WI"
      },
      "execution_count": 46,
      "outputs": []
    },
    {
      "cell_type": "code",
      "source": [
        "print(X_train.toarray())\n",
        "X_train.shape"
      ],
      "metadata": {
        "id": "8c4NTBOK9N2F",
        "colab": {
          "base_uri": "https://localhost:8080/"
        },
        "outputId": "f06917cb-d69a-4d50-a0bd-e15069b806cb"
      },
      "execution_count": 47,
      "outputs": [
        {
          "output_type": "stream",
          "name": "stdout",
          "text": [
            "[[0 0 0 ... 0 0 0]\n",
            " [0 0 0 ... 0 0 0]\n",
            " [0 0 0 ... 0 0 0]\n",
            " ...\n",
            " [0 0 0 ... 0 0 0]\n",
            " [0 0 0 ... 0 0 0]\n",
            " [0 0 0 ... 0 0 0]]\n"
          ]
        },
        {
          "output_type": "execute_result",
          "data": {
            "text/plain": [
              "(7735, 18509)"
            ]
          },
          "metadata": {},
          "execution_count": 47
        }
      ]
    },
    {
      "cell_type": "markdown",
      "source": [
        "##P5.modelo de ML (regresión logistica)."
      ],
      "metadata": {
        "id": "wA0NbJJ6G5m4"
      }
    },
    {
      "cell_type": "code",
      "source": [
        "classifier = LogisticRegression()\n",
        "classifier.fit(X_train, y_train)\n",
        "score = classifier.score(X_test, y_test)\n",
        "\n",
        "print(\"Precisión:\", score)"
      ],
      "metadata": {
        "colab": {
          "base_uri": "https://localhost:8080/"
        },
        "id": "dR5BKu3nG-aY",
        "outputId": "d19a1cce-a32f-4bae-cad2-30c8c8a5222f"
      },
      "execution_count": 48,
      "outputs": [
        {
          "output_type": "stream",
          "name": "stdout",
          "text": [
            "Precisión: 0.9941837921675067\n"
          ]
        }
      ]
    },
    {
      "cell_type": "markdown",
      "source": [
        "###P5.1 evaluando modelo por cada set de datos"
      ],
      "metadata": {
        "id": "twF2Dgu4Jj_w"
      }
    },
    {
      "cell_type": "code",
      "source": [
        "for source in df['source'].unique():\n",
        "    df_source = df[df['source'] == source]\n",
        "    sentences = df_source['sentence'].values\n",
        "    y = df_source['label'].values\n",
        "    sentences_train, sentences_test, y_train, y_test = train_test_split(\n",
        "        sentences, y, test_size=0.25, random_state=1000)\n",
        "    vectorizer = CountVectorizer(min_df=0, lowercase=True) \n",
        "    vectorizer.fit(sentences_train)\n",
        "    X_train = vectorizer.transform(sentences_train)\n",
        "    X_test  = vectorizer.transform(sentences_test)\n",
        "    classifier = LogisticRegression()\n",
        "    classifier.fit(X_train, y_train)\n",
        "    score = classifier.score(X_test, y_test)\n",
        "    print('Precisión para datos {}: {:.4f}'.format(source, score))"
      ],
      "metadata": {
        "colab": {
          "base_uri": "https://localhost:8080/"
        },
        "id": "qlYJvkroJyCe",
        "outputId": "9e9fcccb-51a8-493e-ed87-763beb800cff"
      },
      "execution_count": 49,
      "outputs": [
        {
          "output_type": "stream",
          "name": "stdout",
          "text": [
            "Precisión para datos tweets: 0.9942\n"
          ]
        }
      ]
    },
    {
      "cell_type": "markdown",
      "source": [
        "###P5.2 evaluando modelo con fulldata"
      ],
      "metadata": {
        "id": "j0WMdb2rJ_dO"
      }
    },
    {
      "cell_type": "code",
      "source": [
        "sentences = df['sentence'].values\n",
        "y = df['label'].values\n",
        "sentences_train, sentences_test, y_train, y_test = train_test_split(\n",
        "   sentences, y, test_size=0.25, random_state=1000)\n",
        "\n",
        "vectorizer = CountVectorizer(min_df=0, lowercase=True)   \n",
        "vectorizer.fit(sentences_train)\n",
        "\n",
        "X_train = vectorizer.transform(sentences_train)\n",
        "X_test  = vectorizer.transform(sentences_test)\n",
        "modeloPLNRegLog = LogisticRegression()\n",
        "modeloPLNRegLog.fit(X_train, y_train)\n",
        "score = modeloPLNRegLog.score(X_test, y_test)\n",
        "\n",
        "print(\"Precisión:\", score)"
      ],
      "metadata": {
        "colab": {
          "base_uri": "https://localhost:8080/"
        },
        "id": "Yd5D2bYQKJp1",
        "outputId": "e4f46b46-f416-4d69-fc98-d9c54e10a8b3"
      },
      "execution_count": 50,
      "outputs": [
        {
          "output_type": "stream",
          "name": "stdout",
          "text": [
            "Precisión: 0.9941837921675067\n"
          ]
        }
      ]
    },
    {
      "cell_type": "code",
      "source": [
        "print(X_train.toarray())\n",
        "X_train.shape"
      ],
      "metadata": {
        "colab": {
          "base_uri": "https://localhost:8080/"
        },
        "id": "b2w6xe7U1zM4",
        "outputId": "f055d4f4-13b0-425b-a9cd-b8ccc86fec68"
      },
      "execution_count": 51,
      "outputs": [
        {
          "output_type": "stream",
          "name": "stdout",
          "text": [
            "[[0 0 0 ... 0 0 0]\n",
            " [0 0 0 ... 0 0 0]\n",
            " [0 0 0 ... 0 0 0]\n",
            " ...\n",
            " [0 0 0 ... 0 0 0]\n",
            " [0 0 0 ... 0 0 0]\n",
            " [0 0 0 ... 0 0 0]]\n"
          ]
        },
        {
          "output_type": "execute_result",
          "data": {
            "text/plain": [
              "(7735, 18509)"
            ]
          },
          "metadata": {},
          "execution_count": 51
        }
      ]
    },
    {
      "cell_type": "markdown",
      "source": [
        "###P5.3 Salvando el modelo (serializando)\n",
        "\n",
        "---\n",
        "*   salvaremos el modelo y el vocabulario generado del bagWords\n",
        "*   para ver metodos de exportación:\n",
        "https://machinelearningmastery.com/save-load-machine-learning-models-python-scikit-learn/\n"
      ],
      "metadata": {
        "id": "2W_L13SfpRpb"
      }
    },
    {
      "cell_type": "code",
      "source": [
        "import pickle\n",
        "\n",
        "pickle.dump(modeloPLNRegLog, open( 'LogRegression_PLN_classSentimientos_model.sav', 'wb'))\n",
        "#serializando el vocabulario\n",
        "feature_list = vectorizer.get_feature_names_out()\n",
        "pickle.dump(feature_list, open('vocabulary.pkl', 'wb'))"
      ],
      "metadata": {
        "id": "ZN96BYtxpiKT"
      },
      "execution_count": 52,
      "outputs": []
    },
    {
      "cell_type": "markdown",
      "source": [
        "###P5.4 cargando el modelo (serializado)"
      ],
      "metadata": {
        "id": "aPuU175xqf5p"
      }
    },
    {
      "cell_type": "code",
      "source": [
        "#cargando el modelo\n",
        "modeloPLNRegLogNew = pickle.load(open('LogRegression_PLN_classSentimientos_model.sav', 'rb'))\n",
        "#cargando el vocabulario\n",
        "vocabularyNew= pickle.load(open('vocabulary.pkl', 'rb'))\n",
        "vectorizerNew = CountVectorizer(min_df=0, lowercase=True,vocabulary = vocabularyNew)  #creando un nuevo vectorizador con el vocabulario cargado\n",
        "result = modeloPLNRegLogNew.score(X_test, y_test)   #probado con el test de entrenamiento a ver si funciona\n",
        "print('Inferencia:%',result)"
      ],
      "metadata": {
        "colab": {
          "base_uri": "https://localhost:8080/"
        },
        "id": "f9ALLCc3qrii",
        "outputId": "8bce5aff-5d83-4596-dab7-4919030581ee"
      },
      "execution_count": 53,
      "outputs": [
        {
          "output_type": "stream",
          "name": "stdout",
          "text": [
            "Inferencia:% 0.9941837921675067\n"
          ]
        }
      ]
    },
    {
      "cell_type": "markdown",
      "source": [
        "###P5.5 Haciendo predicciones"
      ],
      "metadata": {
        "id": "xpT6GAytsJXn"
      }
    },
    {
      "cell_type": "code",
      "source": [
        "oracion = ['I love spontaneous road trips']\n",
        "X_prueba = vectorizerNew.transform(oracion)  #convertimos la oración al array del bagword\n",
        "\n",
        "#print('vector:',X_prueba[0].toarray())\n",
        "predict=modeloPLNRegLogNew.predict(X_prueba)\n",
        "print(oracion,',The Sentiment is :',predict)\n"
      ],
      "metadata": {
        "colab": {
          "base_uri": "https://localhost:8080/"
        },
        "id": "yeEJoVSYsOp1",
        "outputId": "2bcdea0b-3717-4aa7-ad53-19a714a4d998"
      },
      "execution_count": 54,
      "outputs": [
        {
          "output_type": "stream",
          "name": "stdout",
          "text": [
            "['I love spontaneous road trips'] ,The Sentiment is : [0]\n"
          ]
        }
      ]
    },
    {
      "cell_type": "markdown",
      "source": [
        "#Deep Learning\n",
        "\n",
        "---\n",
        "Donde usaremos Las redes neuronales, o algunas veces llamadas redes neuronales artificiales (RNA)\n",
        "![neural-670x352.jpeg](data:image/jpeg;base64,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)\n"
      ],
      "metadata": {
        "id": "W2R5BHYRk0tV"
      }
    },
    {
      "cell_type": "markdown",
      "source": [
        "**Notas:**\n",
        "*  la ultima capa es una sola neurona ya que el resultado es binario (1 o 0), pero si tiene varias categorías, debe usar varios neuronas para cada categoría.\n",
        "*  Puede tener tantas capas ocultas como desee. De hecho, una red neuronal con más de una capa oculta se considera una red neuronal profunda.\n",
        "*  el peso de cada neurona se calcula en el entrenamiento y comienza con la inicialización de los pesos con valores aleatorios y luego se entrenan con un método llamado backpropagation.\n",
        "*   Esto se hace utilizando métodos de optimización como el descenso de gradiente para reducir el error entre la salida calculada y la deseada (también llamada salida objetivo)...el mejor es ADAM\n",
        "*   Para calcular El error está determinado por una función de pérdida cuya pérdida queremos minimizar con el optimizador. en este tutorial solo necesitará la función de pérdida de entropía cruzada binaria que se usa para los problemas de clasificación binaria.\n"
      ],
      "metadata": {
        "id": "ebKkzzVwlyxi"
      }
    },
    {
      "cell_type": "markdown",
      "source": [
        "##Usando KERAS\n",
        "\n",
        "---\n",
        "\n",
        "Usaremos un modelo secuencial que es una pila lineal de capas, donde puede usar la gran variedad de capas disponibles en Keras. La capa más común es la capa Densa, que es su capa de red neuronal densamente conectada con todos los pesos y sesgos con los que ya está familiarizado"
      ],
      "metadata": {
        "id": "Zud07_sXrOCN"
      }
    },
    {
      "cell_type": "markdown",
      "source": [
        "##P0.importando librerias"
      ],
      "metadata": {
        "id": "A7451eI5rpj8"
      }
    },
    {
      "cell_type": "code",
      "source": [
        "from keras.models import Sequential\n",
        "from keras import layers"
      ],
      "metadata": {
        "id": "jOlqKtc3rm86"
      },
      "execution_count": 29,
      "outputs": []
    },
    {
      "cell_type": "markdown",
      "source": [
        "##P1.Creando modelo secuencial\n",
        "\n",
        "---\n",
        "*  1° capa tendremos doble capa \n",
        "*   - 1° # dimensiones (18509 columnas)\n",
        "*   - 2° 10 neuronas\n",
        "*   - 3° 10 neuronas\n",
        "*   usaremos como activación RELU/Sigmoidal"
      ],
      "metadata": {
        "id": "7zlgQ1Ttr4xj"
      }
    },
    {
      "cell_type": "code",
      "source": [
        "input_dim = X_train.shape[1]  # Numero de características (neuronas de entrada)\n",
        "print(\"neuronas de entrada (columnas del vector de entrenamiento):\",input_dim)"
      ],
      "metadata": {
        "colab": {
          "base_uri": "https://localhost:8080/"
        },
        "id": "z22eOcn9QCWg",
        "outputId": "2ca21274-a874-48bc-b252-931fbf83bece"
      },
      "execution_count": 55,
      "outputs": [
        {
          "output_type": "stream",
          "name": "stdout",
          "text": [
            "neuronas de entrada (columnas del vector de entrenamiento): 18509\n"
          ]
        }
      ]
    },
    {
      "cell_type": "code",
      "source": [
        "model = Sequential()\n",
        "model.add(layers.Dense(10, input_dim=input_dim, activation='relu')) #1° # dimensiones (4085 columnas), 2° 10 neuronas\n",
        "model.add(layers.Dense(10, input_dim=input_dim, activation='relu'))  #que pasa si agregamos otra capa (mejorara?)\n",
        "model.add(layers.Dense(1, activation='sigmoid'))"
      ],
      "metadata": {
        "id": "fW_l8qLXr8k7"
      },
      "execution_count": 56,
      "outputs": []
    },
    {
      "cell_type": "markdown",
      "source": [
        "##P2. compilando el modelo.\n",
        "\n",
        "---\n",
        "Antes de que pueda comenzar con el entrenamiento del modelo, debe configurar el proceso de aprendizaje. Esto se hace con el método .compile().\n",
        "*   Este método especifica el optimizador y la función de pérdida\n",
        "*   agregamos una lista de métricas que luego se pueden usar para la evaluación (accuracy o Loss)\n"
      ],
      "metadata": {
        "id": "gFvhSop9tK8I"
      }
    },
    {
      "cell_type": "code",
      "source": [
        "model.compile(loss='binary_crossentropy', \n",
        "              optimizer='adam', \n",
        "              metrics=['accuracy'])\n",
        "model.summary()"
      ],
      "metadata": {
        "colab": {
          "base_uri": "https://localhost:8080/"
        },
        "id": "Us0L1XcstmR6",
        "outputId": "244d656b-32d2-4a3d-e94f-10da5beb1305"
      },
      "execution_count": 57,
      "outputs": [
        {
          "output_type": "stream",
          "name": "stdout",
          "text": [
            "Model: \"sequential_1\"\n",
            "_________________________________________________________________\n",
            " Layer (type)                Output Shape              Param #   \n",
            "=================================================================\n",
            " dense_3 (Dense)             (None, 10)                185100    \n",
            "                                                                 \n",
            " dense_4 (Dense)             (None, 10)                110       \n",
            "                                                                 \n",
            " dense_5 (Dense)             (None, 1)                 11        \n",
            "                                                                 \n",
            "=================================================================\n",
            "Total params: 185,221\n",
            "Trainable params: 185,221\n",
            "Non-trainable params: 0\n",
            "_________________________________________________________________\n"
          ]
        }
      ]
    },
    {
      "cell_type": "markdown",
      "source": [
        "##P3. entrenamos el modelo"
      ],
      "metadata": {
        "id": "A2g7vnj8yjke"
      }
    },
    {
      "cell_type": "code",
      "source": [
        "history = model.fit(X_train, y_train,\n",
        "                    epochs=500,\n",
        "                    verbose=True,\n",
        "                    validation_data=(X_test, y_test),\n",
        "                    batch_size=10)"
      ],
      "metadata": {
        "colab": {
          "base_uri": "https://localhost:8080/"
        },
        "id": "gt-ny-x0Liv_",
        "outputId": "53e126e6-0cd7-4f49-c742-d20a994064e8"
      },
      "execution_count": 34,
      "outputs": [
        {
          "output_type": "stream",
          "name": "stdout",
          "text": [
            "Epoch 1/500\n",
            "774/774 [==============================] - 12s 15ms/step - loss: 0.0033 - accuracy: 0.9994 - val_loss: 0.0273 - val_accuracy: 0.9942\n",
            "Epoch 2/500\n",
            "774/774 [==============================] - 7s 9ms/step - loss: 0.0028 - accuracy: 0.9994 - val_loss: 0.0315 - val_accuracy: 0.9926\n",
            "Epoch 3/500\n",
            "774/774 [==============================] - 7s 9ms/step - loss: 0.0024 - accuracy: 0.9994 - val_loss: 0.0284 - val_accuracy: 0.9934\n",
            "Epoch 4/500\n",
            "774/774 [==============================] - 7s 9ms/step - loss: 0.0020 - accuracy: 0.9995 - val_loss: 0.0334 - val_accuracy: 0.9938\n",
            "Epoch 5/500\n",
            "774/774 [==============================] - 7s 9ms/step - loss: 0.0015 - accuracy: 0.9995 - val_loss: 0.0453 - val_accuracy: 0.9907\n",
            "Epoch 6/500\n",
            "774/774 [==============================] - 7s 9ms/step - loss: 0.0013 - accuracy: 0.9995 - val_loss: 0.0615 - val_accuracy: 0.9891\n",
            "Epoch 7/500\n",
            "774/774 [==============================] - 7s 10ms/step - loss: 0.0010 - accuracy: 0.9996 - val_loss: 0.0580 - val_accuracy: 0.9880\n",
            "Epoch 8/500\n",
            "774/774 [==============================] - 8s 10ms/step - loss: 9.4540e-04 - accuracy: 0.9995 - val_loss: 0.0784 - val_accuracy: 0.9853\n",
            "Epoch 9/500\n",
            "774/774 [==============================] - 8s 10ms/step - loss: 7.6374e-04 - accuracy: 0.9996 - val_loss: 0.0741 - val_accuracy: 0.9845\n",
            "Epoch 10/500\n",
            "774/774 [==============================] - 7s 9ms/step - loss: 6.9696e-04 - accuracy: 0.9996 - val_loss: 0.0833 - val_accuracy: 0.9857\n",
            "Epoch 11/500\n",
            "774/774 [==============================] - 7s 9ms/step - loss: 6.0134e-04 - accuracy: 0.9995 - val_loss: 0.1095 - val_accuracy: 0.9791\n",
            "Epoch 12/500\n",
            "774/774 [==============================] - 8s 10ms/step - loss: 5.3784e-04 - accuracy: 0.9996 - val_loss: 0.1347 - val_accuracy: 0.9775\n",
            "Epoch 13/500\n",
            "774/774 [==============================] - 6s 8ms/step - loss: 5.2412e-04 - accuracy: 0.9997 - val_loss: 0.1383 - val_accuracy: 0.9732\n",
            "Epoch 14/500\n",
            "774/774 [==============================] - 7s 9ms/step - loss: 4.5303e-04 - accuracy: 0.9997 - val_loss: 0.1697 - val_accuracy: 0.9682\n",
            "Epoch 15/500\n",
            "774/774 [==============================] - 7s 9ms/step - loss: 4.4105e-04 - accuracy: 0.9999 - val_loss: 0.1513 - val_accuracy: 0.9701\n",
            "Epoch 16/500\n",
            "774/774 [==============================] - 7s 9ms/step - loss: 3.8400e-04 - accuracy: 0.9999 - val_loss: 0.2354 - val_accuracy: 0.9713\n",
            "Epoch 17/500\n",
            "774/774 [==============================] - 7s 9ms/step - loss: 3.8976e-04 - accuracy: 0.9997 - val_loss: 0.1667 - val_accuracy: 0.9670\n",
            "Epoch 18/500\n",
            "774/774 [==============================] - 7s 9ms/step - loss: 3.5249e-04 - accuracy: 0.9999 - val_loss: 0.1719 - val_accuracy: 0.9624\n",
            "Epoch 19/500\n",
            "774/774 [==============================] - 7s 9ms/step - loss: 3.8884e-04 - accuracy: 0.9997 - val_loss: 0.1773 - val_accuracy: 0.9663\n",
            "Epoch 20/500\n",
            "774/774 [==============================] - 12s 16ms/step - loss: 3.2322e-04 - accuracy: 0.9999 - val_loss: 0.2038 - val_accuracy: 0.9670\n",
            "Epoch 21/500\n",
            "774/774 [==============================] - 7s 9ms/step - loss: 3.2078e-04 - accuracy: 0.9997 - val_loss: 0.2156 - val_accuracy: 0.9616\n",
            "Epoch 22/500\n",
            "774/774 [==============================] - 7s 9ms/step - loss: 3.6908e-04 - accuracy: 0.9997 - val_loss: 0.1887 - val_accuracy: 0.9643\n",
            "Epoch 23/500\n",
            "774/774 [==============================] - 7s 8ms/step - loss: 2.9525e-04 - accuracy: 0.9997 - val_loss: 0.2234 - val_accuracy: 0.9620\n",
            "Epoch 24/500\n",
            "774/774 [==============================] - 7s 8ms/step - loss: 3.1361e-04 - accuracy: 0.9999 - val_loss: 0.2368 - val_accuracy: 0.9655\n",
            "Epoch 25/500\n",
            "774/774 [==============================] - 7s 9ms/step - loss: 2.9989e-04 - accuracy: 0.9997 - val_loss: 0.2262 - val_accuracy: 0.9612\n",
            "Epoch 26/500\n",
            "774/774 [==============================] - 7s 9ms/step - loss: 3.3450e-04 - accuracy: 0.9997 - val_loss: 0.2456 - val_accuracy: 0.9624\n",
            "Epoch 27/500\n",
            "774/774 [==============================] - 14s 18ms/step - loss: 3.2270e-04 - accuracy: 0.9997 - val_loss: 0.2929 - val_accuracy: 0.9616\n",
            "Epoch 28/500\n",
            "774/774 [==============================] - 6s 8ms/step - loss: 2.9451e-04 - accuracy: 0.9999 - val_loss: 0.3210 - val_accuracy: 0.9624\n",
            "Epoch 29/500\n",
            "774/774 [==============================] - 6s 8ms/step - loss: 3.0891e-04 - accuracy: 0.9997 - val_loss: 0.2913 - val_accuracy: 0.9674\n",
            "Epoch 30/500\n",
            "774/774 [==============================] - 7s 9ms/step - loss: 3.1015e-04 - accuracy: 0.9997 - val_loss: 0.3041 - val_accuracy: 0.9678\n",
            "Epoch 31/500\n",
            "774/774 [==============================] - 8s 10ms/step - loss: 2.3715e-04 - accuracy: 0.9999 - val_loss: 0.2501 - val_accuracy: 0.9647\n",
            "Epoch 32/500\n",
            "774/774 [==============================] - 12s 15ms/step - loss: 2.8995e-04 - accuracy: 0.9997 - val_loss: 0.1925 - val_accuracy: 0.9624\n",
            "Epoch 33/500\n",
            "774/774 [==============================] - 7s 8ms/step - loss: 2.9963e-04 - accuracy: 0.9999 - val_loss: 0.2117 - val_accuracy: 0.9647\n",
            "Epoch 34/500\n",
            "774/774 [==============================] - 6s 8ms/step - loss: 3.1603e-04 - accuracy: 0.9999 - val_loss: 0.2187 - val_accuracy: 0.9682\n",
            "Epoch 35/500\n",
            "774/774 [==============================] - 7s 8ms/step - loss: 3.0223e-04 - accuracy: 0.9997 - val_loss: 0.2455 - val_accuracy: 0.9682\n",
            "Epoch 36/500\n",
            "774/774 [==============================] - 7s 9ms/step - loss: 3.2670e-04 - accuracy: 0.9999 - val_loss: 0.2197 - val_accuracy: 0.9663\n",
            "Epoch 37/500\n",
            "774/774 [==============================] - 8s 10ms/step - loss: 3.0514e-04 - accuracy: 0.9997 - val_loss: 0.2148 - val_accuracy: 0.9659\n",
            "Epoch 38/500\n",
            "774/774 [==============================] - 7s 9ms/step - loss: 3.0180e-04 - accuracy: 0.9999 - val_loss: 0.2435 - val_accuracy: 0.9663\n",
            "Epoch 39/500\n",
            "774/774 [==============================] - 7s 9ms/step - loss: 2.6754e-04 - accuracy: 0.9999 - val_loss: 0.2532 - val_accuracy: 0.9663\n",
            "Epoch 40/500\n",
            "774/774 [==============================] - 7s 9ms/step - loss: 2.9995e-04 - accuracy: 0.9997 - val_loss: 0.2164 - val_accuracy: 0.9659\n",
            "Epoch 41/500\n",
            "774/774 [==============================] - 7s 9ms/step - loss: 2.8259e-04 - accuracy: 0.9997 - val_loss: 0.2114 - val_accuracy: 0.9636\n",
            "Epoch 42/500\n",
            "774/774 [==============================] - 6s 8ms/step - loss: 2.9621e-04 - accuracy: 0.9999 - val_loss: 0.2548 - val_accuracy: 0.9686\n",
            "Epoch 43/500\n",
            "774/774 [==============================] - 7s 9ms/step - loss: 2.9214e-04 - accuracy: 0.9997 - val_loss: 0.2025 - val_accuracy: 0.9686\n",
            "Epoch 44/500\n",
            "774/774 [==============================] - 7s 9ms/step - loss: 2.8084e-04 - accuracy: 0.9999 - val_loss: 0.2670 - val_accuracy: 0.9694\n",
            "Epoch 45/500\n",
            "774/774 [==============================] - 7s 10ms/step - loss: 3.0247e-04 - accuracy: 0.9997 - val_loss: 0.2743 - val_accuracy: 0.9686\n",
            "Epoch 46/500\n",
            "774/774 [==============================] - 7s 9ms/step - loss: 2.9220e-04 - accuracy: 0.9997 - val_loss: 0.2839 - val_accuracy: 0.9674\n",
            "Epoch 47/500\n",
            "774/774 [==============================] - 9s 12ms/step - loss: 3.0348e-04 - accuracy: 0.9997 - val_loss: 0.2849 - val_accuracy: 0.9678\n",
            "Epoch 48/500\n",
            "774/774 [==============================] - 7s 9ms/step - loss: 2.9968e-04 - accuracy: 0.9997 - val_loss: 0.2734 - val_accuracy: 0.9686\n",
            "Epoch 49/500\n",
            "774/774 [==============================] - 7s 9ms/step - loss: 2.8285e-04 - accuracy: 0.9999 - val_loss: 0.1922 - val_accuracy: 0.9698\n",
            "Epoch 50/500\n",
            "774/774 [==============================] - 7s 9ms/step - loss: 3.0182e-04 - accuracy: 0.9997 - val_loss: 0.2247 - val_accuracy: 0.9698\n",
            "Epoch 51/500\n",
            "774/774 [==============================] - 7s 9ms/step - loss: 2.8148e-04 - accuracy: 0.9999 - val_loss: 0.2869 - val_accuracy: 0.9686\n",
            "Epoch 52/500\n",
            "774/774 [==============================] - 6s 8ms/step - loss: 2.7664e-04 - accuracy: 0.9997 - val_loss: 0.2425 - val_accuracy: 0.9701\n",
            "Epoch 53/500\n",
            "774/774 [==============================] - 7s 8ms/step - loss: 2.9101e-04 - accuracy: 0.9997 - val_loss: 0.2507 - val_accuracy: 0.9701\n",
            "Epoch 54/500\n",
            "774/774 [==============================] - 4s 5ms/step - loss: 2.7607e-04 - accuracy: 0.9999 - val_loss: 0.1974 - val_accuracy: 0.9729\n",
            "Epoch 55/500\n",
            "774/774 [==============================] - 4s 5ms/step - loss: 2.9195e-04 - accuracy: 0.9999 - val_loss: 0.2607 - val_accuracy: 0.9698\n",
            "Epoch 56/500\n",
            "774/774 [==============================] - 4s 4ms/step - loss: 2.7610e-04 - accuracy: 0.9999 - val_loss: 0.2325 - val_accuracy: 0.9705\n",
            "Epoch 57/500\n",
            "774/774 [==============================] - 4s 5ms/step - loss: 2.9454e-04 - accuracy: 0.9999 - val_loss: 0.2829 - val_accuracy: 0.9694\n",
            "Epoch 58/500\n",
            "774/774 [==============================] - 4s 5ms/step - loss: 2.7939e-04 - accuracy: 0.9997 - val_loss: 0.2561 - val_accuracy: 0.9705\n",
            "Epoch 59/500\n",
            "774/774 [==============================] - 5s 7ms/step - loss: 2.6689e-04 - accuracy: 0.9999 - val_loss: 0.1366 - val_accuracy: 0.9725\n",
            "Epoch 60/500\n",
            "774/774 [==============================] - 6s 7ms/step - loss: 2.5158e-04 - accuracy: 0.9999 - val_loss: 0.1891 - val_accuracy: 0.9740\n",
            "Epoch 61/500\n",
            "774/774 [==============================] - 6s 8ms/step - loss: 2.6160e-04 - accuracy: 0.9997 - val_loss: 0.1862 - val_accuracy: 0.9736\n",
            "Epoch 62/500\n",
            "774/774 [==============================] - 7s 9ms/step - loss: 3.0402e-04 - accuracy: 0.9997 - val_loss: 0.2344 - val_accuracy: 0.9713\n",
            "Epoch 63/500\n",
            "774/774 [==============================] - 7s 9ms/step - loss: 2.5661e-04 - accuracy: 0.9999 - val_loss: 0.1538 - val_accuracy: 0.9721\n",
            "Epoch 64/500\n",
            "774/774 [==============================] - 7s 9ms/step - loss: 2.6604e-04 - accuracy: 0.9997 - val_loss: 0.2027 - val_accuracy: 0.9729\n",
            "Epoch 65/500\n",
            "774/774 [==============================] - 7s 8ms/step - loss: 2.3933e-04 - accuracy: 0.9999 - val_loss: 0.1708 - val_accuracy: 0.9717\n",
            "Epoch 66/500\n",
            "774/774 [==============================] - 7s 8ms/step - loss: 2.5124e-04 - accuracy: 0.9999 - val_loss: 0.2387 - val_accuracy: 0.9698\n",
            "Epoch 67/500\n",
            "774/774 [==============================] - 7s 9ms/step - loss: 2.3864e-04 - accuracy: 0.9997 - val_loss: 0.1712 - val_accuracy: 0.9705\n",
            "Epoch 68/500\n",
            "774/774 [==============================] - 7s 9ms/step - loss: 3.1094e-04 - accuracy: 0.9997 - val_loss: 0.1927 - val_accuracy: 0.9713\n",
            "Epoch 69/500\n",
            "774/774 [==============================] - 7s 9ms/step - loss: 2.7372e-04 - accuracy: 0.9999 - val_loss: 0.2479 - val_accuracy: 0.9709\n",
            "Epoch 70/500\n",
            "774/774 [==============================] - 6s 8ms/step - loss: 2.6415e-04 - accuracy: 0.9999 - val_loss: 0.2242 - val_accuracy: 0.9721\n",
            "Epoch 71/500\n",
            "774/774 [==============================] - 7s 9ms/step - loss: 2.9063e-04 - accuracy: 0.9997 - val_loss: 0.2356 - val_accuracy: 0.9721\n",
            "Epoch 72/500\n",
            "774/774 [==============================] - 7s 9ms/step - loss: 2.5939e-04 - accuracy: 0.9999 - val_loss: 0.1697 - val_accuracy: 0.9713\n",
            "Epoch 73/500\n",
            "774/774 [==============================] - 7s 9ms/step - loss: 2.4999e-04 - accuracy: 0.9997 - val_loss: 0.1863 - val_accuracy: 0.9717\n",
            "Epoch 74/500\n",
            "774/774 [==============================] - 7s 8ms/step - loss: 2.3354e-04 - accuracy: 0.9997 - val_loss: 0.2029 - val_accuracy: 0.9721\n",
            "Epoch 75/500\n",
            "774/774 [==============================] - 10s 12ms/step - loss: 2.1831e-04 - accuracy: 0.9999 - val_loss: 0.2293 - val_accuracy: 0.9725\n",
            "Epoch 76/500\n",
            "774/774 [==============================] - 7s 9ms/step - loss: 2.5869e-04 - accuracy: 0.9997 - val_loss: 0.1717 - val_accuracy: 0.9721\n",
            "Epoch 77/500\n",
            "774/774 [==============================] - 6s 8ms/step - loss: 2.4798e-04 - accuracy: 0.9997 - val_loss: 0.1832 - val_accuracy: 0.9717\n",
            "Epoch 78/500\n",
            "774/774 [==============================] - 7s 8ms/step - loss: 2.4696e-04 - accuracy: 0.9999 - val_loss: 0.2793 - val_accuracy: 0.9705\n",
            "Epoch 79/500\n",
            "774/774 [==============================] - 6s 8ms/step - loss: 2.5569e-04 - accuracy: 0.9999 - val_loss: 0.2453 - val_accuracy: 0.9713\n",
            "Epoch 80/500\n",
            "774/774 [==============================] - 7s 8ms/step - loss: 2.1967e-04 - accuracy: 0.9999 - val_loss: 0.2724 - val_accuracy: 0.9701\n",
            "Epoch 81/500\n",
            "774/774 [==============================] - 7s 9ms/step - loss: 2.6074e-04 - accuracy: 0.9999 - val_loss: 0.3000 - val_accuracy: 0.9690\n",
            "Epoch 82/500\n",
            "774/774 [==============================] - 7s 9ms/step - loss: 2.3433e-04 - accuracy: 0.9999 - val_loss: 0.2008 - val_accuracy: 0.9701\n",
            "Epoch 83/500\n",
            "774/774 [==============================] - 7s 9ms/step - loss: 2.8680e-04 - accuracy: 0.9997 - val_loss: 0.2241 - val_accuracy: 0.9701\n",
            "Epoch 84/500\n",
            "774/774 [==============================] - 7s 8ms/step - loss: 2.7923e-04 - accuracy: 0.9997 - val_loss: 0.2277 - val_accuracy: 0.9709\n",
            "Epoch 85/500\n",
            "774/774 [==============================] - 7s 9ms/step - loss: 2.6029e-04 - accuracy: 0.9997 - val_loss: 0.2396 - val_accuracy: 0.9705\n",
            "Epoch 86/500\n",
            "774/774 [==============================] - 7s 9ms/step - loss: 2.6278e-04 - accuracy: 0.9999 - val_loss: 0.2889 - val_accuracy: 0.9698\n",
            "Epoch 87/500\n",
            "774/774 [==============================] - 7s 9ms/step - loss: 2.7313e-04 - accuracy: 0.9999 - val_loss: 0.2114 - val_accuracy: 0.9713\n",
            "Epoch 88/500\n",
            "774/774 [==============================] - 7s 9ms/step - loss: 2.4179e-04 - accuracy: 0.9999 - val_loss: 0.2473 - val_accuracy: 0.9705\n",
            "Epoch 89/500\n",
            "774/774 [==============================] - 6s 8ms/step - loss: 2.5288e-04 - accuracy: 0.9999 - val_loss: 0.1871 - val_accuracy: 0.9717\n",
            "Epoch 90/500\n",
            "774/774 [==============================] - 7s 9ms/step - loss: 2.5007e-04 - accuracy: 0.9999 - val_loss: 0.2393 - val_accuracy: 0.9705\n",
            "Epoch 91/500\n",
            "774/774 [==============================] - 6s 8ms/step - loss: 2.7123e-04 - accuracy: 0.9999 - val_loss: 0.2878 - val_accuracy: 0.9678\n",
            "Epoch 92/500\n",
            "774/774 [==============================] - 6s 8ms/step - loss: 2.5689e-04 - accuracy: 0.9997 - val_loss: 0.3305 - val_accuracy: 0.9674\n",
            "Epoch 93/500\n",
            "774/774 [==============================] - 7s 9ms/step - loss: 2.4888e-04 - accuracy: 0.9997 - val_loss: 0.2528 - val_accuracy: 0.9705\n",
            "Epoch 94/500\n",
            "774/774 [==============================] - 7s 9ms/step - loss: 2.4801e-04 - accuracy: 0.9999 - val_loss: 0.1723 - val_accuracy: 0.9729\n",
            "Epoch 95/500\n",
            "774/774 [==============================] - 7s 9ms/step - loss: 2.3426e-04 - accuracy: 0.9997 - val_loss: 0.2252 - val_accuracy: 0.9717\n",
            "Epoch 96/500\n",
            "774/774 [==============================] - 7s 9ms/step - loss: 2.3601e-04 - accuracy: 0.9999 - val_loss: 0.1862 - val_accuracy: 0.9721\n",
            "Epoch 97/500\n",
            "774/774 [==============================] - 7s 9ms/step - loss: 2.3674e-04 - accuracy: 0.9997 - val_loss: 0.2034 - val_accuracy: 0.9713\n",
            "Epoch 98/500\n",
            "774/774 [==============================] - 7s 9ms/step - loss: 2.3236e-04 - accuracy: 0.9999 - val_loss: 0.2426 - val_accuracy: 0.9713\n",
            "Epoch 99/500\n",
            "774/774 [==============================] - 7s 9ms/step - loss: 2.2915e-04 - accuracy: 0.9999 - val_loss: 0.2712 - val_accuracy: 0.9698\n",
            "Epoch 100/500\n",
            "774/774 [==============================] - 7s 9ms/step - loss: 2.3712e-04 - accuracy: 0.9997 - val_loss: 0.2776 - val_accuracy: 0.9694\n",
            "Epoch 101/500\n",
            "774/774 [==============================] - 7s 10ms/step - loss: 2.7636e-04 - accuracy: 0.9997 - val_loss: 0.2770 - val_accuracy: 0.9701\n",
            "Epoch 102/500\n",
            "774/774 [==============================] - 7s 9ms/step - loss: 2.4323e-04 - accuracy: 0.9999 - val_loss: 0.1969 - val_accuracy: 0.9682\n",
            "Epoch 103/500\n",
            "774/774 [==============================] - 7s 9ms/step - loss: 2.5929e-04 - accuracy: 0.9997 - val_loss: 0.1997 - val_accuracy: 0.9682\n",
            "Epoch 104/500\n",
            "774/774 [==============================] - 7s 9ms/step - loss: 2.4800e-04 - accuracy: 0.9999 - val_loss: 0.2635 - val_accuracy: 0.9698\n",
            "Epoch 105/500\n",
            "774/774 [==============================] - 7s 9ms/step - loss: 2.2887e-04 - accuracy: 0.9999 - val_loss: 0.2493 - val_accuracy: 0.9705\n",
            "Epoch 106/500\n",
            "774/774 [==============================] - 7s 9ms/step - loss: 2.3731e-04 - accuracy: 0.9999 - val_loss: 0.1813 - val_accuracy: 0.9705\n",
            "Epoch 107/500\n",
            "774/774 [==============================] - 7s 9ms/step - loss: 2.3140e-04 - accuracy: 0.9997 - val_loss: 0.1819 - val_accuracy: 0.9686\n",
            "Epoch 108/500\n",
            "774/774 [==============================] - 7s 9ms/step - loss: 2.3981e-04 - accuracy: 0.9997 - val_loss: 0.1875 - val_accuracy: 0.9701\n",
            "Epoch 109/500\n",
            "774/774 [==============================] - 7s 9ms/step - loss: 2.4085e-04 - accuracy: 0.9999 - val_loss: 0.2044 - val_accuracy: 0.9701\n",
            "Epoch 110/500\n",
            "774/774 [==============================] - 4s 5ms/step - loss: 2.4980e-04 - accuracy: 0.9999 - val_loss: 0.2190 - val_accuracy: 0.9709\n",
            "Epoch 111/500\n",
            "774/774 [==============================] - 4s 5ms/step - loss: 2.2862e-04 - accuracy: 0.9999 - val_loss: 0.1989 - val_accuracy: 0.9682\n",
            "Epoch 112/500\n",
            "774/774 [==============================] - 4s 5ms/step - loss: 2.7796e-04 - accuracy: 0.9997 - val_loss: 0.2353 - val_accuracy: 0.9701\n",
            "Epoch 113/500\n",
            "774/774 [==============================] - 4s 5ms/step - loss: 2.7550e-04 - accuracy: 0.9997 - val_loss: 0.2390 - val_accuracy: 0.9701\n",
            "Epoch 114/500\n",
            "774/774 [==============================] - 4s 6ms/step - loss: 2.0836e-04 - accuracy: 0.9997 - val_loss: 0.1967 - val_accuracy: 0.9701\n",
            "Epoch 115/500\n",
            "774/774 [==============================] - 6s 8ms/step - loss: 2.7129e-04 - accuracy: 0.9997 - val_loss: 0.1838 - val_accuracy: 0.9713\n",
            "Epoch 116/500\n",
            "774/774 [==============================] - 7s 9ms/step - loss: 2.3782e-04 - accuracy: 0.9999 - val_loss: 0.2300 - val_accuracy: 0.9698\n",
            "Epoch 117/500\n",
            "774/774 [==============================] - 7s 9ms/step - loss: 2.5226e-04 - accuracy: 0.9997 - val_loss: 0.1702 - val_accuracy: 0.9717\n",
            "Epoch 118/500\n",
            "774/774 [==============================] - 7s 9ms/step - loss: 2.4000e-04 - accuracy: 0.9999 - val_loss: 0.2398 - val_accuracy: 0.9694\n",
            "Epoch 119/500\n",
            "774/774 [==============================] - 7s 9ms/step - loss: 2.4043e-04 - accuracy: 0.9997 - val_loss: 0.2375 - val_accuracy: 0.9709\n",
            "Epoch 120/500\n",
            "774/774 [==============================] - 7s 9ms/step - loss: 2.4275e-04 - accuracy: 0.9999 - val_loss: 0.1817 - val_accuracy: 0.9721\n",
            "Epoch 121/500\n",
            "774/774 [==============================] - 6s 8ms/step - loss: 2.6612e-04 - accuracy: 0.9999 - val_loss: 0.1674 - val_accuracy: 0.9721\n",
            "Epoch 122/500\n",
            "774/774 [==============================] - 7s 9ms/step - loss: 2.4012e-04 - accuracy: 0.9999 - val_loss: 0.1624 - val_accuracy: 0.9725\n",
            "Epoch 123/500\n",
            "774/774 [==============================] - 7s 9ms/step - loss: 2.1381e-04 - accuracy: 0.9999 - val_loss: 0.1693 - val_accuracy: 0.9725\n",
            "Epoch 124/500\n",
            "774/774 [==============================] - 7s 9ms/step - loss: 2.1490e-04 - accuracy: 0.9999 - val_loss: 0.1773 - val_accuracy: 0.9725\n",
            "Epoch 125/500\n",
            "774/774 [==============================] - 8s 10ms/step - loss: 2.1986e-04 - accuracy: 0.9999 - val_loss: 0.2248 - val_accuracy: 0.9701\n",
            "Epoch 126/500\n",
            "774/774 [==============================] - 7s 9ms/step - loss: 2.2242e-04 - accuracy: 0.9999 - val_loss: 0.1768 - val_accuracy: 0.9717\n",
            "Epoch 127/500\n",
            "774/774 [==============================] - 7s 9ms/step - loss: 2.1694e-04 - accuracy: 0.9997 - val_loss: 0.1798 - val_accuracy: 0.9721\n",
            "Epoch 128/500\n",
            "774/774 [==============================] - 7s 9ms/step - loss: 2.0871e-04 - accuracy: 0.9999 - val_loss: 0.2382 - val_accuracy: 0.9698\n",
            "Epoch 129/500\n",
            "774/774 [==============================] - 7s 9ms/step - loss: 2.1525e-04 - accuracy: 0.9997 - val_loss: 0.1892 - val_accuracy: 0.9713\n",
            "Epoch 130/500\n",
            "774/774 [==============================] - 10s 13ms/step - loss: 2.3598e-04 - accuracy: 0.9997 - val_loss: 0.2007 - val_accuracy: 0.9701\n",
            "Epoch 131/500\n",
            "774/774 [==============================] - 12s 15ms/step - loss: 2.1848e-04 - accuracy: 0.9997 - val_loss: 0.2000 - val_accuracy: 0.9701\n",
            "Epoch 132/500\n",
            "774/774 [==============================] - 8s 10ms/step - loss: 2.2322e-04 - accuracy: 0.9997 - val_loss: 0.2001 - val_accuracy: 0.9694\n",
            "Epoch 133/500\n",
            "774/774 [==============================] - 7s 9ms/step - loss: 2.1618e-04 - accuracy: 0.9997 - val_loss: 0.1943 - val_accuracy: 0.9705\n",
            "Epoch 134/500\n",
            "774/774 [==============================] - 7s 9ms/step - loss: 2.2571e-04 - accuracy: 0.9999 - val_loss: 0.2533 - val_accuracy: 0.9694\n",
            "Epoch 135/500\n",
            "774/774 [==============================] - 7s 9ms/step - loss: 2.1337e-04 - accuracy: 0.9997 - val_loss: 0.2103 - val_accuracy: 0.9713\n",
            "Epoch 136/500\n",
            "774/774 [==============================] - 7s 8ms/step - loss: 2.7093e-04 - accuracy: 0.9999 - val_loss: 0.2957 - val_accuracy: 0.9674\n",
            "Epoch 137/500\n",
            "774/774 [==============================] - 7s 9ms/step - loss: 2.3760e-04 - accuracy: 0.9999 - val_loss: 0.2666 - val_accuracy: 0.9690\n",
            "Epoch 138/500\n",
            "774/774 [==============================] - 7s 9ms/step - loss: 2.1351e-04 - accuracy: 0.9999 - val_loss: 0.1956 - val_accuracy: 0.9717\n",
            "Epoch 139/500\n",
            "774/774 [==============================] - 7s 9ms/step - loss: 2.0624e-04 - accuracy: 0.9999 - val_loss: 0.1834 - val_accuracy: 0.9709\n",
            "Epoch 140/500\n",
            "774/774 [==============================] - 7s 9ms/step - loss: 2.0437e-04 - accuracy: 0.9999 - val_loss: 0.2061 - val_accuracy: 0.9713\n",
            "Epoch 141/500\n",
            "774/774 [==============================] - 7s 9ms/step - loss: 2.1944e-04 - accuracy: 0.9999 - val_loss: 0.2139 - val_accuracy: 0.9717\n",
            "Epoch 142/500\n",
            "774/774 [==============================] - 7s 9ms/step - loss: 2.1182e-04 - accuracy: 0.9999 - val_loss: 0.2590 - val_accuracy: 0.9698\n",
            "Epoch 143/500\n",
            "774/774 [==============================] - 7s 8ms/step - loss: 1.9033e-04 - accuracy: 0.9999 - val_loss: 0.2538 - val_accuracy: 0.9698\n",
            "Epoch 144/500\n",
            "774/774 [==============================] - 7s 9ms/step - loss: 2.0652e-04 - accuracy: 0.9997 - val_loss: 0.3034 - val_accuracy: 0.9674\n",
            "Epoch 145/500\n",
            "774/774 [==============================] - 7s 9ms/step - loss: 2.0688e-04 - accuracy: 0.9997 - val_loss: 0.2741 - val_accuracy: 0.9698\n",
            "Epoch 146/500\n",
            "774/774 [==============================] - 7s 8ms/step - loss: 2.0513e-04 - accuracy: 0.9997 - val_loss: 0.2802 - val_accuracy: 0.9698\n",
            "Epoch 147/500\n",
            "774/774 [==============================] - 6s 8ms/step - loss: 2.0728e-04 - accuracy: 0.9999 - val_loss: 0.2019 - val_accuracy: 0.9717\n",
            "Epoch 148/500\n",
            "774/774 [==============================] - 7s 9ms/step - loss: 2.0367e-04 - accuracy: 0.9997 - val_loss: 0.2059 - val_accuracy: 0.9717\n",
            "Epoch 149/500\n",
            "774/774 [==============================] - 7s 9ms/step - loss: 2.1772e-04 - accuracy: 0.9997 - val_loss: 0.1947 - val_accuracy: 0.9729\n",
            "Epoch 150/500\n",
            "774/774 [==============================] - 7s 9ms/step - loss: 2.0229e-04 - accuracy: 0.9997 - val_loss: 0.1865 - val_accuracy: 0.9729\n",
            "Epoch 151/500\n",
            "774/774 [==============================] - 8s 10ms/step - loss: 2.0315e-04 - accuracy: 0.9997 - val_loss: 0.1864 - val_accuracy: 0.9701\n",
            "Epoch 152/500\n",
            "774/774 [==============================] - 12s 15ms/step - loss: 2.0231e-04 - accuracy: 0.9999 - val_loss: 0.2048 - val_accuracy: 0.9705\n",
            "Epoch 153/500\n",
            "774/774 [==============================] - 12s 16ms/step - loss: 1.9574e-04 - accuracy: 0.9997 - val_loss: 0.2175 - val_accuracy: 0.9709\n",
            "Epoch 154/500\n",
            "774/774 [==============================] - 6s 8ms/step - loss: 2.4723e-04 - accuracy: 0.9999 - val_loss: 0.2419 - val_accuracy: 0.9698\n",
            "Epoch 155/500\n",
            "774/774 [==============================] - 10s 13ms/step - loss: 2.2355e-04 - accuracy: 0.9999 - val_loss: 0.2514 - val_accuracy: 0.9698\n",
            "Epoch 156/500\n",
            "774/774 [==============================] - 7s 9ms/step - loss: 2.1670e-04 - accuracy: 0.9999 - val_loss: 0.2655 - val_accuracy: 0.9694\n",
            "Epoch 157/500\n",
            "774/774 [==============================] - 7s 10ms/step - loss: 2.0779e-04 - accuracy: 0.9997 - val_loss: 0.2255 - val_accuracy: 0.9725\n",
            "Epoch 158/500\n",
            "774/774 [==============================] - 7s 9ms/step - loss: 2.0029e-04 - accuracy: 0.9997 - val_loss: 0.2291 - val_accuracy: 0.9721\n",
            "Epoch 159/500\n",
            "774/774 [==============================] - 7s 10ms/step - loss: 1.9662e-04 - accuracy: 0.9999 - val_loss: 0.2647 - val_accuracy: 0.9713\n",
            "Epoch 160/500\n",
            "774/774 [==============================] - 7s 9ms/step - loss: 2.0001e-04 - accuracy: 0.9997 - val_loss: 0.2789 - val_accuracy: 0.9705\n",
            "Epoch 161/500\n",
            "774/774 [==============================] - 6s 8ms/step - loss: 1.9855e-04 - accuracy: 0.9997 - val_loss: 0.2714 - val_accuracy: 0.9709\n",
            "Epoch 162/500\n",
            "774/774 [==============================] - 7s 9ms/step - loss: 1.9969e-04 - accuracy: 0.9997 - val_loss: 0.2662 - val_accuracy: 0.9694\n",
            "Epoch 163/500\n",
            "774/774 [==============================] - 6s 8ms/step - loss: 2.0109e-04 - accuracy: 0.9997 - val_loss: 0.2458 - val_accuracy: 0.9686\n",
            "Epoch 164/500\n",
            "774/774 [==============================] - 7s 9ms/step - loss: 1.9656e-04 - accuracy: 0.9997 - val_loss: 0.2701 - val_accuracy: 0.9686\n",
            "Epoch 165/500\n",
            "774/774 [==============================] - 7s 9ms/step - loss: 1.9665e-04 - accuracy: 0.9997 - val_loss: 0.2764 - val_accuracy: 0.9678\n",
            "Epoch 166/500\n",
            "774/774 [==============================] - 7s 9ms/step - loss: 2.5587e-04 - accuracy: 0.9999 - val_loss: 0.3874 - val_accuracy: 0.9643\n",
            "Epoch 167/500\n",
            "774/774 [==============================] - 7s 9ms/step - loss: 2.4688e-04 - accuracy: 0.9997 - val_loss: 0.2589 - val_accuracy: 0.9709\n",
            "Epoch 168/500\n",
            "774/774 [==============================] - 7s 9ms/step - loss: 2.0778e-04 - accuracy: 0.9999 - val_loss: 0.2525 - val_accuracy: 0.9713\n",
            "Epoch 169/500\n",
            "774/774 [==============================] - 7s 9ms/step - loss: 1.9955e-04 - accuracy: 0.9997 - val_loss: 0.2487 - val_accuracy: 0.9694\n",
            "Epoch 170/500\n",
            "774/774 [==============================] - 7s 9ms/step - loss: 1.9515e-04 - accuracy: 0.9999 - val_loss: 0.2561 - val_accuracy: 0.9698\n",
            "Epoch 171/500\n",
            "774/774 [==============================] - 7s 9ms/step - loss: 1.9683e-04 - accuracy: 0.9997 - val_loss: 0.2726 - val_accuracy: 0.9690\n",
            "Epoch 172/500\n",
            "774/774 [==============================] - 7s 9ms/step - loss: 1.9775e-04 - accuracy: 0.9997 - val_loss: 0.2667 - val_accuracy: 0.9686\n",
            "Epoch 173/500\n",
            "774/774 [==============================] - 8s 11ms/step - loss: 1.9424e-04 - accuracy: 0.9997 - val_loss: 0.2745 - val_accuracy: 0.9678\n",
            "Epoch 174/500\n",
            "774/774 [==============================] - 7s 9ms/step - loss: 2.1206e-04 - accuracy: 0.9997 - val_loss: 0.2809 - val_accuracy: 0.9682\n",
            "Epoch 175/500\n",
            "774/774 [==============================] - 7s 9ms/step - loss: 2.0697e-04 - accuracy: 0.9997 - val_loss: 0.2632 - val_accuracy: 0.9674\n",
            "Epoch 176/500\n",
            "774/774 [==============================] - 7s 9ms/step - loss: 2.1048e-04 - accuracy: 0.9999 - val_loss: 0.3117 - val_accuracy: 0.9674\n",
            "Epoch 177/500\n",
            "774/774 [==============================] - 7s 9ms/step - loss: 2.0259e-04 - accuracy: 0.9997 - val_loss: 0.2571 - val_accuracy: 0.9690\n",
            "Epoch 178/500\n",
            "774/774 [==============================] - 7s 9ms/step - loss: 1.9997e-04 - accuracy: 0.9999 - val_loss: 0.2717 - val_accuracy: 0.9694\n",
            "Epoch 179/500\n",
            "774/774 [==============================] - 7s 9ms/step - loss: 2.0211e-04 - accuracy: 0.9997 - val_loss: 0.2739 - val_accuracy: 0.9694\n",
            "Epoch 180/500\n",
            "774/774 [==============================] - 7s 9ms/step - loss: 2.0097e-04 - accuracy: 0.9999 - val_loss: 0.3109 - val_accuracy: 0.9674\n",
            "Epoch 181/500\n",
            "774/774 [==============================] - 7s 9ms/step - loss: 2.5095e-04 - accuracy: 0.9999 - val_loss: 0.3830 - val_accuracy: 0.9647\n",
            "Epoch 182/500\n",
            "774/774 [==============================] - 7s 9ms/step - loss: 2.1534e-04 - accuracy: 0.9999 - val_loss: 0.2429 - val_accuracy: 0.9721\n",
            "Epoch 183/500\n",
            "774/774 [==============================] - 7s 9ms/step - loss: 1.9938e-04 - accuracy: 0.9997 - val_loss: 0.2412 - val_accuracy: 0.9709\n",
            "Epoch 184/500\n",
            "774/774 [==============================] - 7s 9ms/step - loss: 1.9419e-04 - accuracy: 0.9999 - val_loss: 0.2360 - val_accuracy: 0.9690\n",
            "Epoch 185/500\n",
            "774/774 [==============================] - 7s 9ms/step - loss: 1.9268e-04 - accuracy: 0.9997 - val_loss: 0.2454 - val_accuracy: 0.9705\n",
            "Epoch 186/500\n",
            "774/774 [==============================] - 7s 9ms/step - loss: 1.9683e-04 - accuracy: 0.9999 - val_loss: 0.2534 - val_accuracy: 0.9698\n",
            "Epoch 187/500\n",
            "774/774 [==============================] - 7s 9ms/step - loss: 1.9705e-04 - accuracy: 0.9999 - val_loss: 0.2477 - val_accuracy: 0.9701\n",
            "Epoch 188/500\n",
            "774/774 [==============================] - 7s 9ms/step - loss: 1.9552e-04 - accuracy: 0.9997 - val_loss: 0.2640 - val_accuracy: 0.9694\n",
            "Epoch 189/500\n",
            "774/774 [==============================] - 7s 9ms/step - loss: 1.9237e-04 - accuracy: 0.9997 - val_loss: 0.2608 - val_accuracy: 0.9686\n",
            "Epoch 190/500\n",
            "774/774 [==============================] - 7s 9ms/step - loss: 1.9231e-04 - accuracy: 0.9999 - val_loss: 0.3149 - val_accuracy: 0.9674\n",
            "Epoch 191/500\n",
            "774/774 [==============================] - 7s 9ms/step - loss: 1.9345e-04 - accuracy: 0.9999 - val_loss: 0.3267 - val_accuracy: 0.9670\n",
            "Epoch 192/500\n",
            "774/774 [==============================] - 7s 9ms/step - loss: 2.2956e-04 - accuracy: 0.9999 - val_loss: 0.3243 - val_accuracy: 0.9667\n",
            "Epoch 193/500\n",
            "774/774 [==============================] - 7s 9ms/step - loss: 2.0031e-04 - accuracy: 0.9997 - val_loss: 0.2562 - val_accuracy: 0.9686\n",
            "Epoch 194/500\n",
            "774/774 [==============================] - 7s 9ms/step - loss: 1.9274e-04 - accuracy: 0.9999 - val_loss: 0.2781 - val_accuracy: 0.9690\n",
            "Epoch 195/500\n",
            "774/774 [==============================] - 7s 9ms/step - loss: 1.9465e-04 - accuracy: 0.9999 - val_loss: 0.2976 - val_accuracy: 0.9667\n",
            "Epoch 196/500\n",
            "774/774 [==============================] - 7s 9ms/step - loss: 1.9198e-04 - accuracy: 0.9999 - val_loss: 0.3384 - val_accuracy: 0.9655\n",
            "Epoch 197/500\n",
            "774/774 [==============================] - 7s 9ms/step - loss: 1.9349e-04 - accuracy: 0.9997 - val_loss: 0.2869 - val_accuracy: 0.9682\n",
            "Epoch 198/500\n",
            "774/774 [==============================] - 7s 9ms/step - loss: 1.9342e-04 - accuracy: 0.9997 - val_loss: 0.2860 - val_accuracy: 0.9678\n",
            "Epoch 199/500\n",
            "774/774 [==============================] - 7s 9ms/step - loss: 1.9120e-04 - accuracy: 0.9999 - val_loss: 0.3114 - val_accuracy: 0.9667\n",
            "Epoch 200/500\n",
            "774/774 [==============================] - 8s 10ms/step - loss: 1.9716e-04 - accuracy: 0.9997 - val_loss: 0.2994 - val_accuracy: 0.9667\n",
            "Epoch 201/500\n",
            "774/774 [==============================] - 10s 12ms/step - loss: 1.9981e-04 - accuracy: 0.9997 - val_loss: 0.2931 - val_accuracy: 0.9674\n",
            "Epoch 202/500\n",
            "774/774 [==============================] - 10s 13ms/step - loss: 1.9633e-04 - accuracy: 0.9999 - val_loss: 0.2848 - val_accuracy: 0.9674\n",
            "Epoch 203/500\n",
            "774/774 [==============================] - 9s 12ms/step - loss: 1.9122e-04 - accuracy: 0.9997 - val_loss: 0.2932 - val_accuracy: 0.9674\n",
            "Epoch 204/500\n",
            "774/774 [==============================] - 7s 9ms/step - loss: 1.9371e-04 - accuracy: 0.9997 - val_loss: 0.2966 - val_accuracy: 0.9674\n",
            "Epoch 205/500\n",
            "774/774 [==============================] - 7s 9ms/step - loss: 1.9067e-04 - accuracy: 0.9999 - val_loss: 0.3090 - val_accuracy: 0.9670\n",
            "Epoch 206/500\n",
            "774/774 [==============================] - 7s 9ms/step - loss: 1.9724e-04 - accuracy: 0.9999 - val_loss: 0.3355 - val_accuracy: 0.9647\n",
            "Epoch 207/500\n",
            "774/774 [==============================] - 7s 9ms/step - loss: 1.9065e-04 - accuracy: 0.9997 - val_loss: 0.3241 - val_accuracy: 0.9663\n",
            "Epoch 208/500\n",
            "774/774 [==============================] - 7s 9ms/step - loss: 1.9117e-04 - accuracy: 0.9999 - val_loss: 0.3367 - val_accuracy: 0.9647\n",
            "Epoch 209/500\n",
            "774/774 [==============================] - 7s 9ms/step - loss: 1.9181e-04 - accuracy: 0.9997 - val_loss: 0.3287 - val_accuracy: 0.9659\n",
            "Epoch 210/500\n",
            "774/774 [==============================] - 7s 9ms/step - loss: 1.9005e-04 - accuracy: 0.9999 - val_loss: 0.3581 - val_accuracy: 0.9643\n",
            "Epoch 211/500\n",
            "774/774 [==============================] - 6s 8ms/step - loss: 1.9101e-04 - accuracy: 0.9999 - val_loss: 0.3647 - val_accuracy: 0.9636\n",
            "Epoch 212/500\n",
            "774/774 [==============================] - 7s 9ms/step - loss: 1.9236e-04 - accuracy: 0.9999 - val_loss: 0.3344 - val_accuracy: 0.9655\n",
            "Epoch 213/500\n",
            "774/774 [==============================] - 7s 10ms/step - loss: 1.9186e-04 - accuracy: 0.9997 - val_loss: 0.3289 - val_accuracy: 0.9651\n",
            "Epoch 214/500\n",
            "774/774 [==============================] - 8s 10ms/step - loss: 1.9194e-04 - accuracy: 0.9999 - val_loss: 0.3327 - val_accuracy: 0.9651\n",
            "Epoch 215/500\n",
            "774/774 [==============================] - 7s 10ms/step - loss: 1.8939e-04 - accuracy: 0.9999 - val_loss: 0.3886 - val_accuracy: 0.9636\n",
            "Epoch 216/500\n",
            "774/774 [==============================] - 7s 9ms/step - loss: 2.0695e-04 - accuracy: 0.9999 - val_loss: 0.2914 - val_accuracy: 0.9663\n",
            "Epoch 217/500\n",
            "774/774 [==============================] - 7s 9ms/step - loss: 1.8795e-04 - accuracy: 0.9999 - val_loss: 0.2923 - val_accuracy: 0.9643\n",
            "Epoch 218/500\n",
            "774/774 [==============================] - 7s 9ms/step - loss: 1.9798e-04 - accuracy: 0.9997 - val_loss: 0.2958 - val_accuracy: 0.9647\n",
            "Epoch 219/500\n",
            "774/774 [==============================] - 7s 9ms/step - loss: 1.9767e-04 - accuracy: 0.9999 - val_loss: 0.3008 - val_accuracy: 0.9624\n",
            "Epoch 220/500\n",
            "774/774 [==============================] - 7s 9ms/step - loss: 1.9431e-04 - accuracy: 0.9997 - val_loss: 0.3035 - val_accuracy: 0.9639\n",
            "Epoch 221/500\n",
            "774/774 [==============================] - 4s 5ms/step - loss: 1.9674e-04 - accuracy: 0.9999 - val_loss: 0.3087 - val_accuracy: 0.9628\n",
            "Epoch 222/500\n",
            "774/774 [==============================] - 4s 6ms/step - loss: 1.9383e-04 - accuracy: 0.9997 - val_loss: 0.3143 - val_accuracy: 0.9628\n",
            "Epoch 223/500\n",
            "774/774 [==============================] - 4s 6ms/step - loss: 1.9879e-04 - accuracy: 0.9997 - val_loss: 0.3106 - val_accuracy: 0.9628\n",
            "Epoch 224/500\n",
            "774/774 [==============================] - 4s 5ms/step - loss: 2.0160e-04 - accuracy: 0.9997 - val_loss: 0.3151 - val_accuracy: 0.9624\n",
            "Epoch 225/500\n",
            "774/774 [==============================] - 4s 6ms/step - loss: 1.9527e-04 - accuracy: 0.9997 - val_loss: 0.3167 - val_accuracy: 0.9612\n",
            "Epoch 226/500\n",
            "774/774 [==============================] - 4s 5ms/step - loss: 2.0132e-04 - accuracy: 0.9997 - val_loss: 0.3119 - val_accuracy: 0.9632\n",
            "Epoch 227/500\n",
            "774/774 [==============================] - 4s 5ms/step - loss: 1.9311e-04 - accuracy: 0.9997 - val_loss: 0.3213 - val_accuracy: 0.9628\n",
            "Epoch 228/500\n",
            "774/774 [==============================] - 5s 6ms/step - loss: 1.8253e-04 - accuracy: 0.9999 - val_loss: 0.3335 - val_accuracy: 0.9628\n",
            "Epoch 229/500\n",
            "774/774 [==============================] - 4s 6ms/step - loss: 1.9317e-04 - accuracy: 0.9999 - val_loss: 0.3636 - val_accuracy: 0.9624\n",
            "Epoch 230/500\n",
            "774/774 [==============================] - 5s 6ms/step - loss: 1.9250e-04 - accuracy: 0.9999 - val_loss: 0.3649 - val_accuracy: 0.9612\n",
            "Epoch 231/500\n",
            "774/774 [==============================] - 4s 6ms/step - loss: 1.9249e-04 - accuracy: 0.9997 - val_loss: 0.3200 - val_accuracy: 0.9612\n",
            "Epoch 232/500\n",
            "774/774 [==============================] - 6s 7ms/step - loss: 2.0898e-04 - accuracy: 0.9999 - val_loss: 0.3388 - val_accuracy: 0.9632\n",
            "Epoch 233/500\n",
            "774/774 [==============================] - 8s 10ms/step - loss: 1.9950e-04 - accuracy: 0.9997 - val_loss: 0.3247 - val_accuracy: 0.9636\n",
            "Epoch 234/500\n",
            "774/774 [==============================] - 8s 10ms/step - loss: 1.9184e-04 - accuracy: 0.9999 - val_loss: 0.3266 - val_accuracy: 0.9632\n",
            "Epoch 235/500\n",
            "774/774 [==============================] - 7s 9ms/step - loss: 1.9087e-04 - accuracy: 0.9999 - val_loss: 0.3286 - val_accuracy: 0.9632\n",
            "Epoch 236/500\n",
            "774/774 [==============================] - 7s 9ms/step - loss: 1.9096e-04 - accuracy: 0.9999 - val_loss: 0.3416 - val_accuracy: 0.9632\n",
            "Epoch 237/500\n",
            "774/774 [==============================] - 7s 9ms/step - loss: 1.9177e-04 - accuracy: 0.9997 - val_loss: 0.3450 - val_accuracy: 0.9628\n",
            "Epoch 238/500\n",
            "774/774 [==============================] - 6s 8ms/step - loss: 1.9067e-04 - accuracy: 0.9999 - val_loss: 0.3549 - val_accuracy: 0.9620\n",
            "Epoch 239/500\n",
            "774/774 [==============================] - 7s 9ms/step - loss: 1.9105e-04 - accuracy: 0.9999 - val_loss: 0.3883 - val_accuracy: 0.9601\n",
            "Epoch 240/500\n",
            "774/774 [==============================] - 7s 9ms/step - loss: 2.0704e-04 - accuracy: 0.9999 - val_loss: 0.3889 - val_accuracy: 0.9601\n",
            "Epoch 241/500\n",
            "774/774 [==============================] - 7s 8ms/step - loss: 1.9997e-04 - accuracy: 0.9999 - val_loss: 0.4114 - val_accuracy: 0.9589\n",
            "Epoch 242/500\n",
            "774/774 [==============================] - 7s 9ms/step - loss: 1.9681e-04 - accuracy: 0.9999 - val_loss: 0.4531 - val_accuracy: 0.9570\n",
            "Epoch 243/500\n",
            "774/774 [==============================] - 7s 9ms/step - loss: 1.9740e-04 - accuracy: 0.9999 - val_loss: 0.4038 - val_accuracy: 0.9593\n",
            "Epoch 244/500\n",
            "774/774 [==============================] - 7s 9ms/step - loss: 1.9824e-04 - accuracy: 0.9999 - val_loss: 0.4174 - val_accuracy: 0.9589\n",
            "Epoch 245/500\n",
            "774/774 [==============================] - 7s 9ms/step - loss: 1.9393e-04 - accuracy: 0.9999 - val_loss: 0.4703 - val_accuracy: 0.9566\n",
            "Epoch 246/500\n",
            "774/774 [==============================] - 7s 9ms/step - loss: 1.9643e-04 - accuracy: 0.9999 - val_loss: 0.4511 - val_accuracy: 0.9566\n",
            "Epoch 247/500\n",
            "774/774 [==============================] - 7s 9ms/step - loss: 1.8960e-04 - accuracy: 0.9997 - val_loss: 0.3627 - val_accuracy: 0.9597\n",
            "Epoch 248/500\n",
            "774/774 [==============================] - 7s 9ms/step - loss: 2.2669e-04 - accuracy: 0.9997 - val_loss: 0.3768 - val_accuracy: 0.9612\n",
            "Epoch 249/500\n",
            "774/774 [==============================] - 7s 9ms/step - loss: 1.9966e-04 - accuracy: 0.9999 - val_loss: 0.4030 - val_accuracy: 0.9585\n",
            "Epoch 250/500\n",
            "774/774 [==============================] - 7s 9ms/step - loss: 1.9775e-04 - accuracy: 0.9999 - val_loss: 0.4260 - val_accuracy: 0.9581\n",
            "Epoch 251/500\n",
            "774/774 [==============================] - 7s 9ms/step - loss: 1.9827e-04 - accuracy: 0.9999 - val_loss: 0.4408 - val_accuracy: 0.9570\n",
            "Epoch 252/500\n",
            "774/774 [==============================] - 7s 9ms/step - loss: 1.9589e-04 - accuracy: 0.9999 - val_loss: 0.4328 - val_accuracy: 0.9570\n",
            "Epoch 253/500\n",
            "774/774 [==============================] - 7s 9ms/step - loss: 1.9200e-04 - accuracy: 0.9997 - val_loss: 0.3272 - val_accuracy: 0.9601\n",
            "Epoch 254/500\n",
            "774/774 [==============================] - 7s 10ms/step - loss: 1.8430e-04 - accuracy: 0.9997 - val_loss: 0.3289 - val_accuracy: 0.9604\n",
            "Epoch 255/500\n",
            "774/774 [==============================] - 7s 9ms/step - loss: 1.8795e-04 - accuracy: 0.9999 - val_loss: 0.3299 - val_accuracy: 0.9604\n",
            "Epoch 256/500\n",
            "774/774 [==============================] - 7s 9ms/step - loss: 1.8930e-04 - accuracy: 0.9999 - val_loss: 0.3386 - val_accuracy: 0.9612\n",
            "Epoch 257/500\n",
            "774/774 [==============================] - 7s 10ms/step - loss: 1.8759e-04 - accuracy: 0.9999 - val_loss: 0.3519 - val_accuracy: 0.9616\n",
            "Epoch 258/500\n",
            "774/774 [==============================] - 7s 9ms/step - loss: 1.8833e-04 - accuracy: 0.9997 - val_loss: 0.3549 - val_accuracy: 0.9616\n",
            "Epoch 259/500\n",
            "774/774 [==============================] - 7s 9ms/step - loss: 1.8845e-04 - accuracy: 0.9997 - val_loss: 0.3540 - val_accuracy: 0.9616\n",
            "Epoch 260/500\n",
            "774/774 [==============================] - 7s 9ms/step - loss: 1.8781e-04 - accuracy: 0.9999 - val_loss: 0.3762 - val_accuracy: 0.9608\n",
            "Epoch 261/500\n",
            "774/774 [==============================] - 7s 9ms/step - loss: 1.8836e-04 - accuracy: 0.9997 - val_loss: 0.3459 - val_accuracy: 0.9604\n",
            "Epoch 262/500\n",
            "774/774 [==============================] - 7s 9ms/step - loss: 1.9356e-04 - accuracy: 0.9997 - val_loss: 0.3529 - val_accuracy: 0.9608\n",
            "Epoch 263/500\n",
            "774/774 [==============================] - 7s 9ms/step - loss: 1.9180e-04 - accuracy: 0.9999 - val_loss: 0.3826 - val_accuracy: 0.9612\n",
            "Epoch 264/500\n",
            "774/774 [==============================] - 7s 9ms/step - loss: 1.9124e-04 - accuracy: 0.9997 - val_loss: 0.3569 - val_accuracy: 0.9624\n",
            "Epoch 265/500\n",
            "774/774 [==============================] - 7s 9ms/step - loss: 1.9002e-04 - accuracy: 0.9999 - val_loss: 0.3754 - val_accuracy: 0.9620\n",
            "Epoch 266/500\n",
            "774/774 [==============================] - 7s 9ms/step - loss: 1.9116e-04 - accuracy: 0.9997 - val_loss: 0.3617 - val_accuracy: 0.9628\n",
            "Epoch 267/500\n",
            "774/774 [==============================] - 7s 9ms/step - loss: 1.8669e-04 - accuracy: 0.9999 - val_loss: 0.3811 - val_accuracy: 0.9620\n",
            "Epoch 268/500\n",
            "774/774 [==============================] - 8s 10ms/step - loss: 1.9120e-04 - accuracy: 0.9997 - val_loss: 0.3722 - val_accuracy: 0.9628\n",
            "Epoch 269/500\n",
            "774/774 [==============================] - 7s 9ms/step - loss: 1.8929e-04 - accuracy: 0.9999 - val_loss: 0.3763 - val_accuracy: 0.9624\n",
            "Epoch 270/500\n",
            "774/774 [==============================] - 7s 10ms/step - loss: 1.8857e-04 - accuracy: 0.9999 - val_loss: 0.4292 - val_accuracy: 0.9608\n",
            "Epoch 271/500\n",
            "774/774 [==============================] - 7s 9ms/step - loss: 1.8978e-04 - accuracy: 0.9997 - val_loss: 0.3588 - val_accuracy: 0.9620\n",
            "Epoch 272/500\n",
            "774/774 [==============================] - 7s 9ms/step - loss: 1.8911e-04 - accuracy: 0.9997 - val_loss: 0.3622 - val_accuracy: 0.9620\n",
            "Epoch 273/500\n",
            "774/774 [==============================] - 7s 9ms/step - loss: 1.8900e-04 - accuracy: 0.9999 - val_loss: 0.3674 - val_accuracy: 0.9616\n",
            "Epoch 274/500\n",
            "774/774 [==============================] - 7s 10ms/step - loss: 1.8958e-04 - accuracy: 0.9999 - val_loss: 0.3722 - val_accuracy: 0.9620\n",
            "Epoch 275/500\n",
            "774/774 [==============================] - 7s 10ms/step - loss: 1.8781e-04 - accuracy: 0.9999 - val_loss: 0.3923 - val_accuracy: 0.9624\n",
            "Epoch 276/500\n",
            "774/774 [==============================] - 7s 10ms/step - loss: 1.8873e-04 - accuracy: 0.9997 - val_loss: 0.3862 - val_accuracy: 0.9620\n",
            "Epoch 277/500\n",
            "774/774 [==============================] - 7s 9ms/step - loss: 1.8788e-04 - accuracy: 0.9999 - val_loss: 0.4118 - val_accuracy: 0.9608\n",
            "Epoch 278/500\n",
            "774/774 [==============================] - 7s 9ms/step - loss: 1.8828e-04 - accuracy: 0.9997 - val_loss: 0.3834 - val_accuracy: 0.9608\n",
            "Epoch 279/500\n",
            "774/774 [==============================] - 7s 9ms/step - loss: 1.8714e-04 - accuracy: 0.9999 - val_loss: 0.4082 - val_accuracy: 0.9612\n",
            "Epoch 280/500\n",
            "774/774 [==============================] - 7s 9ms/step - loss: 1.8730e-04 - accuracy: 0.9997 - val_loss: 0.4171 - val_accuracy: 0.9608\n",
            "Epoch 281/500\n",
            "774/774 [==============================] - 7s 9ms/step - loss: 1.8683e-04 - accuracy: 0.9997 - val_loss: 0.4239 - val_accuracy: 0.9604\n",
            "Epoch 282/500\n",
            "774/774 [==============================] - 7s 9ms/step - loss: 1.8254e-04 - accuracy: 0.9999 - val_loss: 0.4425 - val_accuracy: 0.9589\n",
            "Epoch 283/500\n",
            "774/774 [==============================] - 7s 9ms/step - loss: 1.8700e-04 - accuracy: 0.9997 - val_loss: 0.4445 - val_accuracy: 0.9593\n",
            "Epoch 284/500\n",
            "774/774 [==============================] - 7s 9ms/step - loss: 1.8773e-04 - accuracy: 0.9997 - val_loss: 0.4327 - val_accuracy: 0.9573\n",
            "Epoch 285/500\n",
            "774/774 [==============================] - 7s 9ms/step - loss: 2.4818e-04 - accuracy: 0.9999 - val_loss: 0.4681 - val_accuracy: 0.9589\n",
            "Epoch 286/500\n",
            "774/774 [==============================] - 7s 9ms/step - loss: 2.1458e-04 - accuracy: 0.9999 - val_loss: 0.3876 - val_accuracy: 0.9597\n",
            "Epoch 287/500\n",
            "774/774 [==============================] - 7s 9ms/step - loss: 2.0921e-04 - accuracy: 0.9997 - val_loss: 0.3901 - val_accuracy: 0.9608\n",
            "Epoch 288/500\n",
            "774/774 [==============================] - 7s 9ms/step - loss: 1.8292e-04 - accuracy: 0.9999 - val_loss: 0.4021 - val_accuracy: 0.9601\n",
            "Epoch 289/500\n",
            "774/774 [==============================] - 7s 9ms/step - loss: 2.1108e-04 - accuracy: 0.9997 - val_loss: 0.4083 - val_accuracy: 0.9616\n",
            "Epoch 290/500\n",
            "774/774 [==============================] - 7s 9ms/step - loss: 1.8347e-04 - accuracy: 0.9999 - val_loss: 0.4506 - val_accuracy: 0.9597\n",
            "Epoch 291/500\n",
            "774/774 [==============================] - 7s 9ms/step - loss: 1.9624e-04 - accuracy: 0.9997 - val_loss: 0.4014 - val_accuracy: 0.9612\n",
            "Epoch 292/500\n",
            "774/774 [==============================] - 7s 9ms/step - loss: 1.9134e-04 - accuracy: 0.9997 - val_loss: 0.3823 - val_accuracy: 0.9601\n",
            "Epoch 293/500\n",
            "774/774 [==============================] - 8s 10ms/step - loss: 1.9012e-04 - accuracy: 0.9999 - val_loss: 0.3822 - val_accuracy: 0.9601\n",
            "Epoch 294/500\n",
            "774/774 [==============================] - 7s 9ms/step - loss: 1.9043e-04 - accuracy: 0.9999 - val_loss: 0.3742 - val_accuracy: 0.9597\n",
            "Epoch 295/500\n",
            "774/774 [==============================] - 7s 9ms/step - loss: 1.8821e-04 - accuracy: 0.9997 - val_loss: 0.3831 - val_accuracy: 0.9589\n",
            "Epoch 296/500\n",
            "774/774 [==============================] - 7s 9ms/step - loss: 1.8441e-04 - accuracy: 0.9999 - val_loss: 0.4034 - val_accuracy: 0.9616\n",
            "Epoch 297/500\n",
            "774/774 [==============================] - 7s 9ms/step - loss: 1.8391e-04 - accuracy: 0.9999 - val_loss: 0.4228 - val_accuracy: 0.9612\n",
            "Epoch 298/500\n",
            "774/774 [==============================] - 7s 9ms/step - loss: 1.8414e-04 - accuracy: 0.9999 - val_loss: 0.4442 - val_accuracy: 0.9589\n",
            "Epoch 299/500\n",
            "774/774 [==============================] - 7s 9ms/step - loss: 1.8059e-04 - accuracy: 0.9997 - val_loss: 0.4516 - val_accuracy: 0.9589\n",
            "Epoch 300/500\n",
            "774/774 [==============================] - 7s 9ms/step - loss: 1.8430e-04 - accuracy: 0.9999 - val_loss: 0.4535 - val_accuracy: 0.9589\n",
            "Epoch 301/500\n",
            "774/774 [==============================] - 7s 9ms/step - loss: 1.8300e-04 - accuracy: 0.9997 - val_loss: 0.4314 - val_accuracy: 0.9597\n",
            "Epoch 302/500\n",
            "774/774 [==============================] - 7s 9ms/step - loss: 1.8259e-04 - accuracy: 0.9999 - val_loss: 0.4456 - val_accuracy: 0.9589\n",
            "Epoch 303/500\n",
            "774/774 [==============================] - 7s 10ms/step - loss: 1.8355e-04 - accuracy: 0.9997 - val_loss: 0.4173 - val_accuracy: 0.9616\n",
            "Epoch 304/500\n",
            "774/774 [==============================] - 7s 9ms/step - loss: 1.8354e-04 - accuracy: 0.9997 - val_loss: 0.4389 - val_accuracy: 0.9597\n",
            "Epoch 305/500\n",
            "774/774 [==============================] - 7s 9ms/step - loss: 1.8275e-04 - accuracy: 0.9997 - val_loss: 0.4328 - val_accuracy: 0.9601\n",
            "Epoch 306/500\n",
            "774/774 [==============================] - 7s 9ms/step - loss: 1.8294e-04 - accuracy: 0.9999 - val_loss: 0.4509 - val_accuracy: 0.9589\n",
            "Epoch 307/500\n",
            "774/774 [==============================] - 7s 9ms/step - loss: 1.8279e-04 - accuracy: 0.9997 - val_loss: 0.4676 - val_accuracy: 0.9593\n",
            "Epoch 308/500\n",
            "774/774 [==============================] - 7s 9ms/step - loss: 1.8329e-04 - accuracy: 0.9999 - val_loss: 0.4785 - val_accuracy: 0.9589\n",
            "Epoch 309/500\n",
            "774/774 [==============================] - 7s 9ms/step - loss: 1.8299e-04 - accuracy: 0.9999 - val_loss: 0.5058 - val_accuracy: 0.9570\n",
            "Epoch 310/500\n",
            "774/774 [==============================] - 7s 9ms/step - loss: 1.8305e-04 - accuracy: 0.9997 - val_loss: 0.4170 - val_accuracy: 0.9624\n",
            "Epoch 311/500\n",
            "774/774 [==============================] - 7s 9ms/step - loss: 1.8292e-04 - accuracy: 0.9997 - val_loss: 0.4308 - val_accuracy: 0.9616\n",
            "Epoch 312/500\n",
            "774/774 [==============================] - 7s 9ms/step - loss: 1.8280e-04 - accuracy: 0.9997 - val_loss: 0.4344 - val_accuracy: 0.9616\n",
            "Epoch 313/500\n",
            "774/774 [==============================] - 7s 9ms/step - loss: 2.2255e-04 - accuracy: 0.9999 - val_loss: 0.4594 - val_accuracy: 0.9604\n",
            "Epoch 314/500\n",
            "774/774 [==============================] - 7s 9ms/step - loss: 1.8248e-04 - accuracy: 0.9997 - val_loss: 0.4674 - val_accuracy: 0.9601\n",
            "Epoch 315/500\n",
            "774/774 [==============================] - 7s 8ms/step - loss: 1.8277e-04 - accuracy: 0.9997 - val_loss: 0.4785 - val_accuracy: 0.9601\n",
            "Epoch 316/500\n",
            "774/774 [==============================] - 7s 9ms/step - loss: 1.8247e-04 - accuracy: 0.9997 - val_loss: 0.4671 - val_accuracy: 0.9601\n",
            "Epoch 317/500\n",
            "774/774 [==============================] - 7s 9ms/step - loss: 1.8282e-04 - accuracy: 0.9997 - val_loss: 0.4838 - val_accuracy: 0.9601\n",
            "Epoch 318/500\n",
            "774/774 [==============================] - 7s 9ms/step - loss: 1.8295e-04 - accuracy: 0.9999 - val_loss: 0.4906 - val_accuracy: 0.9601\n",
            "Epoch 319/500\n",
            "774/774 [==============================] - 7s 9ms/step - loss: 1.8279e-04 - accuracy: 0.9997 - val_loss: 0.5019 - val_accuracy: 0.9593\n",
            "Epoch 320/500\n",
            "774/774 [==============================] - 7s 9ms/step - loss: 1.8249e-04 - accuracy: 0.9997 - val_loss: 0.5125 - val_accuracy: 0.9585\n",
            "Epoch 321/500\n",
            "774/774 [==============================] - 7s 9ms/step - loss: 2.0365e-04 - accuracy: 0.9999 - val_loss: 0.5021 - val_accuracy: 0.9585\n",
            "Epoch 322/500\n",
            "774/774 [==============================] - 7s 9ms/step - loss: 1.8388e-04 - accuracy: 0.9999 - val_loss: 0.4878 - val_accuracy: 0.9601\n",
            "Epoch 323/500\n",
            "774/774 [==============================] - 7s 9ms/step - loss: 1.7957e-04 - accuracy: 0.9999 - val_loss: 0.4976 - val_accuracy: 0.9589\n",
            "Epoch 324/500\n",
            "774/774 [==============================] - 7s 9ms/step - loss: 1.8276e-04 - accuracy: 0.9999 - val_loss: 0.5062 - val_accuracy: 0.9585\n",
            "Epoch 325/500\n",
            "774/774 [==============================] - 7s 9ms/step - loss: 1.8300e-04 - accuracy: 0.9997 - val_loss: 0.3764 - val_accuracy: 0.9612\n",
            "Epoch 326/500\n",
            "774/774 [==============================] - 7s 10ms/step - loss: 1.8081e-04 - accuracy: 0.9999 - val_loss: 0.3836 - val_accuracy: 0.9616\n",
            "Epoch 327/500\n",
            "774/774 [==============================] - 7s 9ms/step - loss: 1.8244e-04 - accuracy: 0.9999 - val_loss: 0.3854 - val_accuracy: 0.9616\n",
            "Epoch 328/500\n",
            "774/774 [==============================] - 7s 10ms/step - loss: 1.8276e-04 - accuracy: 0.9999 - val_loss: 0.3989 - val_accuracy: 0.9632\n",
            "Epoch 329/500\n",
            "774/774 [==============================] - 7s 9ms/step - loss: 1.8255e-04 - accuracy: 0.9999 - val_loss: 0.4037 - val_accuracy: 0.9632\n",
            "Epoch 330/500\n",
            "774/774 [==============================] - 7s 9ms/step - loss: 1.8318e-04 - accuracy: 0.9997 - val_loss: 0.4156 - val_accuracy: 0.9628\n",
            "Epoch 331/500\n",
            "774/774 [==============================] - 7s 9ms/step - loss: 1.8229e-04 - accuracy: 0.9997 - val_loss: 0.4310 - val_accuracy: 0.9620\n",
            "Epoch 332/500\n",
            "774/774 [==============================] - 7s 9ms/step - loss: 1.8312e-04 - accuracy: 0.9997 - val_loss: 0.4302 - val_accuracy: 0.9620\n",
            "Epoch 333/500\n",
            "774/774 [==============================] - 7s 9ms/step - loss: 1.8247e-04 - accuracy: 0.9997 - val_loss: 0.4384 - val_accuracy: 0.9616\n",
            "Epoch 334/500\n",
            "774/774 [==============================] - 7s 9ms/step - loss: 1.8087e-04 - accuracy: 0.9999 - val_loss: 0.4446 - val_accuracy: 0.9612\n",
            "Epoch 335/500\n",
            "774/774 [==============================] - 7s 10ms/step - loss: 1.8253e-04 - accuracy: 0.9997 - val_loss: 0.4435 - val_accuracy: 0.9612\n",
            "Epoch 336/500\n",
            "774/774 [==============================] - 7s 9ms/step - loss: 1.8241e-04 - accuracy: 0.9997 - val_loss: 0.4473 - val_accuracy: 0.9612\n",
            "Epoch 337/500\n",
            "774/774 [==============================] - 7s 9ms/step - loss: 1.8285e-04 - accuracy: 0.9997 - val_loss: 0.4542 - val_accuracy: 0.9604\n",
            "Epoch 338/500\n",
            "774/774 [==============================] - 7s 9ms/step - loss: 1.8240e-04 - accuracy: 0.9997 - val_loss: 0.4599 - val_accuracy: 0.9604\n",
            "Epoch 339/500\n",
            "774/774 [==============================] - 7s 9ms/step - loss: 1.8255e-04 - accuracy: 0.9997 - val_loss: 0.4655 - val_accuracy: 0.9604\n",
            "Epoch 340/500\n",
            "774/774 [==============================] - 7s 9ms/step - loss: 1.8274e-04 - accuracy: 0.9999 - val_loss: 0.4755 - val_accuracy: 0.9601\n",
            "Epoch 341/500\n",
            "774/774 [==============================] - 7s 9ms/step - loss: 1.8227e-04 - accuracy: 0.9999 - val_loss: 0.4843 - val_accuracy: 0.9593\n",
            "Epoch 342/500\n",
            "774/774 [==============================] - 7s 9ms/step - loss: 2.0896e-04 - accuracy: 0.9999 - val_loss: 0.5197 - val_accuracy: 0.9589\n",
            "Epoch 343/500\n",
            "774/774 [==============================] - 7s 9ms/step - loss: 1.7960e-04 - accuracy: 0.9999 - val_loss: 0.5314 - val_accuracy: 0.9585\n",
            "Epoch 344/500\n",
            "774/774 [==============================] - 7s 9ms/step - loss: 1.8323e-04 - accuracy: 0.9999 - val_loss: 0.5344 - val_accuracy: 0.9581\n",
            "Epoch 345/500\n",
            "774/774 [==============================] - 7s 9ms/step - loss: 2.1248e-04 - accuracy: 0.9999 - val_loss: 0.5362 - val_accuracy: 0.9573\n",
            "Epoch 346/500\n",
            "774/774 [==============================] - 7s 9ms/step - loss: 1.8347e-04 - accuracy: 0.9997 - val_loss: 0.4401 - val_accuracy: 0.9612\n",
            "Epoch 347/500\n",
            "774/774 [==============================] - 7s 8ms/step - loss: 1.8278e-04 - accuracy: 0.9997 - val_loss: 0.4502 - val_accuracy: 0.9604\n",
            "Epoch 348/500\n",
            "774/774 [==============================] - 7s 9ms/step - loss: 1.8224e-04 - accuracy: 0.9999 - val_loss: 0.4625 - val_accuracy: 0.9597\n",
            "Epoch 349/500\n",
            "774/774 [==============================] - 7s 9ms/step - loss: 1.8244e-04 - accuracy: 0.9999 - val_loss: 0.4721 - val_accuracy: 0.9597\n",
            "Epoch 350/500\n",
            "774/774 [==============================] - 7s 9ms/step - loss: 1.8234e-04 - accuracy: 0.9997 - val_loss: 0.4713 - val_accuracy: 0.9585\n",
            "Epoch 351/500\n",
            "774/774 [==============================] - 7s 9ms/step - loss: 2.1675e-04 - accuracy: 0.9999 - val_loss: 0.5310 - val_accuracy: 0.9573\n",
            "Epoch 352/500\n",
            "774/774 [==============================] - 7s 9ms/step - loss: 1.8717e-04 - accuracy: 0.9997 - val_loss: 0.3988 - val_accuracy: 0.9604\n",
            "Epoch 353/500\n",
            "774/774 [==============================] - 8s 10ms/step - loss: 1.8406e-04 - accuracy: 0.9999 - val_loss: 0.4101 - val_accuracy: 0.9620\n",
            "Epoch 354/500\n",
            "774/774 [==============================] - 8s 10ms/step - loss: 1.8413e-04 - accuracy: 0.9997 - val_loss: 0.4160 - val_accuracy: 0.9616\n",
            "Epoch 355/500\n",
            "774/774 [==============================] - 7s 9ms/step - loss: 1.8429e-04 - accuracy: 0.9999 - val_loss: 0.4247 - val_accuracy: 0.9624\n",
            "Epoch 356/500\n",
            "774/774 [==============================] - 7s 9ms/step - loss: 1.8406e-04 - accuracy: 0.9999 - val_loss: 0.4582 - val_accuracy: 0.9601\n",
            "Epoch 357/500\n",
            "774/774 [==============================] - 7s 9ms/step - loss: 1.8488e-04 - accuracy: 0.9999 - val_loss: 0.4613 - val_accuracy: 0.9601\n",
            "Epoch 358/500\n",
            "774/774 [==============================] - 7s 9ms/step - loss: 1.8438e-04 - accuracy: 0.9997 - val_loss: 0.4550 - val_accuracy: 0.9608\n",
            "Epoch 359/500\n",
            "774/774 [==============================] - 7s 9ms/step - loss: 1.8245e-04 - accuracy: 0.9999 - val_loss: 0.4593 - val_accuracy: 0.9608\n",
            "Epoch 360/500\n",
            "774/774 [==============================] - 7s 9ms/step - loss: 1.8252e-04 - accuracy: 0.9997 - val_loss: 0.4652 - val_accuracy: 0.9608\n",
            "Epoch 361/500\n",
            "774/774 [==============================] - 7s 9ms/step - loss: 1.8210e-04 - accuracy: 0.9997 - val_loss: 0.4699 - val_accuracy: 0.9608\n",
            "Epoch 362/500\n",
            "774/774 [==============================] - 7s 9ms/step - loss: 1.8266e-04 - accuracy: 0.9999 - val_loss: 0.4454 - val_accuracy: 0.9612\n",
            "Epoch 363/500\n",
            "774/774 [==============================] - 7s 9ms/step - loss: 1.8201e-04 - accuracy: 0.9997 - val_loss: 0.4516 - val_accuracy: 0.9608\n",
            "Epoch 364/500\n",
            "774/774 [==============================] - 7s 9ms/step - loss: 1.8217e-04 - accuracy: 0.9997 - val_loss: 0.4528 - val_accuracy: 0.9608\n",
            "Epoch 365/500\n",
            "774/774 [==============================] - 7s 9ms/step - loss: 1.8231e-04 - accuracy: 0.9999 - val_loss: 0.4576 - val_accuracy: 0.9608\n",
            "Epoch 366/500\n",
            "774/774 [==============================] - 7s 9ms/step - loss: 1.8253e-04 - accuracy: 0.9997 - val_loss: 0.4561 - val_accuracy: 0.9608\n",
            "Epoch 367/500\n",
            "774/774 [==============================] - 7s 9ms/step - loss: 1.8227e-04 - accuracy: 0.9997 - val_loss: 0.4552 - val_accuracy: 0.9608\n",
            "Epoch 368/500\n",
            "774/774 [==============================] - 7s 9ms/step - loss: 1.8205e-04 - accuracy: 0.9999 - val_loss: 0.4605 - val_accuracy: 0.9608\n",
            "Epoch 369/500\n",
            "774/774 [==============================] - 7s 9ms/step - loss: 1.8220e-04 - accuracy: 0.9997 - val_loss: 0.4554 - val_accuracy: 0.9612\n",
            "Epoch 370/500\n",
            "774/774 [==============================] - 7s 9ms/step - loss: 1.8229e-04 - accuracy: 0.9997 - val_loss: 0.4559 - val_accuracy: 0.9612\n",
            "Epoch 371/500\n",
            "774/774 [==============================] - 7s 10ms/step - loss: 1.8208e-04 - accuracy: 0.9997 - val_loss: 0.4600 - val_accuracy: 0.9612\n",
            "Epoch 372/500\n",
            "774/774 [==============================] - 7s 9ms/step - loss: 1.8206e-04 - accuracy: 0.9997 - val_loss: 0.4631 - val_accuracy: 0.9608\n",
            "Epoch 373/500\n",
            "774/774 [==============================] - 8s 10ms/step - loss: 1.9266e-04 - accuracy: 0.9999 - val_loss: 0.4544 - val_accuracy: 0.9604\n",
            "Epoch 374/500\n",
            "774/774 [==============================] - 8s 10ms/step - loss: 1.8853e-04 - accuracy: 0.9999 - val_loss: 0.4565 - val_accuracy: 0.9604\n",
            "Epoch 375/500\n",
            "774/774 [==============================] - 7s 10ms/step - loss: 1.8474e-04 - accuracy: 0.9997 - val_loss: 0.4507 - val_accuracy: 0.9616\n",
            "Epoch 376/500\n",
            "774/774 [==============================] - 7s 10ms/step - loss: 1.8163e-04 - accuracy: 0.9997 - val_loss: 0.4605 - val_accuracy: 0.9612\n",
            "Epoch 377/500\n",
            "774/774 [==============================] - 7s 9ms/step - loss: 1.8162e-04 - accuracy: 0.9997 - val_loss: 0.4703 - val_accuracy: 0.9604\n",
            "Epoch 378/500\n",
            "774/774 [==============================] - 8s 10ms/step - loss: 1.8188e-04 - accuracy: 0.9999 - val_loss: 0.4793 - val_accuracy: 0.9601\n",
            "Epoch 379/500\n",
            "774/774 [==============================] - 7s 10ms/step - loss: 1.8161e-04 - accuracy: 0.9997 - val_loss: 0.4763 - val_accuracy: 0.9608\n",
            "Epoch 380/500\n",
            "774/774 [==============================] - 7s 9ms/step - loss: 1.8158e-04 - accuracy: 0.9997 - val_loss: 0.4804 - val_accuracy: 0.9608\n",
            "Epoch 381/500\n",
            "774/774 [==============================] - 7s 10ms/step - loss: 1.8155e-04 - accuracy: 0.9997 - val_loss: 0.4838 - val_accuracy: 0.9604\n",
            "Epoch 382/500\n",
            "774/774 [==============================] - 7s 10ms/step - loss: 1.8174e-04 - accuracy: 0.9999 - val_loss: 0.4965 - val_accuracy: 0.9597\n",
            "Epoch 383/500\n",
            "774/774 [==============================] - 7s 9ms/step - loss: 1.8867e-04 - accuracy: 0.9999 - val_loss: 0.5052 - val_accuracy: 0.9601\n",
            "Epoch 384/500\n",
            "774/774 [==============================] - 7s 9ms/step - loss: 1.8259e-04 - accuracy: 0.9999 - val_loss: 0.5027 - val_accuracy: 0.9601\n",
            "Epoch 385/500\n",
            "774/774 [==============================] - 8s 10ms/step - loss: 1.8233e-04 - accuracy: 0.9997 - val_loss: 0.4996 - val_accuracy: 0.9601\n",
            "Epoch 386/500\n",
            "774/774 [==============================] - 7s 9ms/step - loss: 1.8190e-04 - accuracy: 0.9999 - val_loss: 0.4913 - val_accuracy: 0.9601\n",
            "Epoch 387/500\n",
            "774/774 [==============================] - 7s 9ms/step - loss: 1.8180e-04 - accuracy: 0.9997 - val_loss: 0.4908 - val_accuracy: 0.9601\n",
            "Epoch 388/500\n",
            "774/774 [==============================] - 7s 9ms/step - loss: 1.8169e-04 - accuracy: 0.9997 - val_loss: 0.4865 - val_accuracy: 0.9604\n",
            "Epoch 389/500\n",
            "774/774 [==============================] - 8s 10ms/step - loss: 1.8170e-04 - accuracy: 0.9997 - val_loss: 0.4852 - val_accuracy: 0.9604\n",
            "Epoch 390/500\n",
            "774/774 [==============================] - 8s 10ms/step - loss: 1.8170e-04 - accuracy: 0.9997 - val_loss: 0.4833 - val_accuracy: 0.9608\n",
            "Epoch 391/500\n",
            "774/774 [==============================] - 7s 9ms/step - loss: 1.8178e-04 - accuracy: 0.9999 - val_loss: 0.4804 - val_accuracy: 0.9608\n",
            "Epoch 392/500\n",
            "774/774 [==============================] - 7s 9ms/step - loss: 1.8186e-04 - accuracy: 0.9999 - val_loss: 0.4747 - val_accuracy: 0.9608\n",
            "Epoch 393/500\n",
            "774/774 [==============================] - 7s 9ms/step - loss: 1.8183e-04 - accuracy: 0.9997 - val_loss: 0.4709 - val_accuracy: 0.9616\n",
            "Epoch 394/500\n",
            "774/774 [==============================] - 7s 9ms/step - loss: 1.8176e-04 - accuracy: 0.9997 - val_loss: 0.4693 - val_accuracy: 0.9616\n",
            "Epoch 395/500\n",
            "774/774 [==============================] - 8s 10ms/step - loss: 1.8180e-04 - accuracy: 0.9999 - val_loss: 0.4666 - val_accuracy: 0.9616\n",
            "Epoch 396/500\n",
            "774/774 [==============================] - 7s 10ms/step - loss: 1.8183e-04 - accuracy: 0.9997 - val_loss: 0.4659 - val_accuracy: 0.9612\n",
            "Epoch 397/500\n",
            "774/774 [==============================] - 8s 10ms/step - loss: 1.8204e-04 - accuracy: 0.9999 - val_loss: 0.4592 - val_accuracy: 0.9616\n",
            "Epoch 398/500\n",
            "774/774 [==============================] - 8s 10ms/step - loss: 1.8146e-04 - accuracy: 0.9999 - val_loss: 0.4669 - val_accuracy: 0.9616\n",
            "Epoch 399/500\n",
            "774/774 [==============================] - 8s 10ms/step - loss: 1.8148e-04 - accuracy: 0.9997 - val_loss: 0.4742 - val_accuracy: 0.9612\n",
            "Epoch 400/500\n",
            "774/774 [==============================] - 7s 9ms/step - loss: 1.8153e-04 - accuracy: 0.9997 - val_loss: 0.4802 - val_accuracy: 0.9612\n",
            "Epoch 401/500\n",
            "774/774 [==============================] - 7s 10ms/step - loss: 1.8137e-04 - accuracy: 0.9997 - val_loss: 0.4862 - val_accuracy: 0.9608\n",
            "Epoch 402/500\n",
            "774/774 [==============================] - 7s 9ms/step - loss: 1.8165e-04 - accuracy: 0.9999 - val_loss: 0.4926 - val_accuracy: 0.9604\n",
            "Epoch 403/500\n",
            "774/774 [==============================] - 8s 10ms/step - loss: 1.8138e-04 - accuracy: 0.9999 - val_loss: 0.4988 - val_accuracy: 0.9597\n",
            "Epoch 404/500\n",
            "774/774 [==============================] - 8s 10ms/step - loss: 1.8177e-04 - accuracy: 0.9999 - val_loss: 0.5051 - val_accuracy: 0.9597\n",
            "Epoch 405/500\n",
            "774/774 [==============================] - 7s 9ms/step - loss: 1.8109e-04 - accuracy: 0.9997 - val_loss: 0.5181 - val_accuracy: 0.9589\n",
            "Epoch 406/500\n",
            "774/774 [==============================] - 8s 10ms/step - loss: 2.0867e-04 - accuracy: 0.9999 - val_loss: 0.5388 - val_accuracy: 0.9585\n",
            "Epoch 407/500\n",
            "774/774 [==============================] - 8s 10ms/step - loss: 1.8472e-04 - accuracy: 0.9999 - val_loss: 0.5604 - val_accuracy: 0.9570\n",
            "Epoch 408/500\n",
            "774/774 [==============================] - 8s 10ms/step - loss: 1.8379e-04 - accuracy: 0.9999 - val_loss: 0.5700 - val_accuracy: 0.9570\n",
            "Epoch 409/500\n",
            "774/774 [==============================] - 8s 10ms/step - loss: 1.8487e-04 - accuracy: 0.9999 - val_loss: 0.5800 - val_accuracy: 0.9570\n",
            "Epoch 410/500\n",
            "774/774 [==============================] - 7s 9ms/step - loss: 1.8583e-04 - accuracy: 0.9999 - val_loss: 0.5539 - val_accuracy: 0.9577\n",
            "Epoch 411/500\n",
            "774/774 [==============================] - 7s 9ms/step - loss: 1.8531e-04 - accuracy: 0.9999 - val_loss: 0.5658 - val_accuracy: 0.9570\n",
            "Epoch 412/500\n",
            "774/774 [==============================] - 7s 9ms/step - loss: 1.8543e-04 - accuracy: 0.9997 - val_loss: 0.5543 - val_accuracy: 0.9577\n",
            "Epoch 413/500\n",
            "774/774 [==============================] - 7s 9ms/step - loss: 1.8633e-04 - accuracy: 0.9997 - val_loss: 0.5684 - val_accuracy: 0.9570\n",
            "Epoch 414/500\n",
            "774/774 [==============================] - 7s 9ms/step - loss: 1.8576e-04 - accuracy: 0.9999 - val_loss: 0.5831 - val_accuracy: 0.9570\n",
            "Epoch 415/500\n",
            "774/774 [==============================] - 7s 9ms/step - loss: 1.8551e-04 - accuracy: 0.9997 - val_loss: 0.5529 - val_accuracy: 0.9581\n",
            "Epoch 416/500\n",
            "774/774 [==============================] - 7s 9ms/step - loss: 2.2856e-04 - accuracy: 0.9999 - val_loss: 0.5289 - val_accuracy: 0.9581\n",
            "Epoch 417/500\n",
            "774/774 [==============================] - 7s 9ms/step - loss: 1.8275e-04 - accuracy: 0.9997 - val_loss: 0.5403 - val_accuracy: 0.9577\n",
            "Epoch 418/500\n",
            "774/774 [==============================] - 7s 9ms/step - loss: 1.8354e-04 - accuracy: 0.9997 - val_loss: 0.5555 - val_accuracy: 0.9577\n",
            "Epoch 419/500\n",
            "774/774 [==============================] - 7s 10ms/step - loss: 1.8372e-04 - accuracy: 0.9999 - val_loss: 0.5595 - val_accuracy: 0.9573\n",
            "Epoch 420/500\n",
            "774/774 [==============================] - 7s 9ms/step - loss: 1.8436e-04 - accuracy: 0.9999 - val_loss: 0.5485 - val_accuracy: 0.9581\n",
            "Epoch 421/500\n",
            "774/774 [==============================] - 7s 9ms/step - loss: 1.8440e-04 - accuracy: 0.9997 - val_loss: 0.5567 - val_accuracy: 0.9573\n",
            "Epoch 422/500\n",
            "774/774 [==============================] - 7s 9ms/step - loss: 1.8166e-04 - accuracy: 0.9999 - val_loss: 0.5219 - val_accuracy: 0.9589\n",
            "Epoch 423/500\n",
            "774/774 [==============================] - 7s 9ms/step - loss: 1.8165e-04 - accuracy: 0.9997 - val_loss: 0.5314 - val_accuracy: 0.9581\n",
            "Epoch 424/500\n",
            "774/774 [==============================] - 7s 9ms/step - loss: 1.8132e-04 - accuracy: 0.9997 - val_loss: 0.5439 - val_accuracy: 0.9581\n",
            "Epoch 425/500\n",
            "774/774 [==============================] - 7s 10ms/step - loss: 1.8117e-04 - accuracy: 0.9997 - val_loss: 0.5412 - val_accuracy: 0.9581\n",
            "Epoch 426/500\n",
            "774/774 [==============================] - 7s 10ms/step - loss: 1.8139e-04 - accuracy: 0.9999 - val_loss: 0.5533 - val_accuracy: 0.9581\n",
            "Epoch 427/500\n",
            "774/774 [==============================] - 7s 9ms/step - loss: 1.8089e-04 - accuracy: 0.9999 - val_loss: 0.5305 - val_accuracy: 0.9581\n",
            "Epoch 428/500\n",
            "774/774 [==============================] - 7s 9ms/step - loss: 1.8182e-04 - accuracy: 0.9997 - val_loss: 0.5417 - val_accuracy: 0.9581\n",
            "Epoch 429/500\n",
            "774/774 [==============================] - 7s 9ms/step - loss: 1.8139e-04 - accuracy: 0.9999 - val_loss: 0.5532 - val_accuracy: 0.9581\n",
            "Epoch 430/500\n",
            "774/774 [==============================] - 7s 9ms/step - loss: 1.8152e-04 - accuracy: 0.9999 - val_loss: 0.5417 - val_accuracy: 0.9581\n",
            "Epoch 431/500\n",
            "774/774 [==============================] - 7s 9ms/step - loss: 1.8154e-04 - accuracy: 0.9999 - val_loss: 0.5388 - val_accuracy: 0.9581\n",
            "Epoch 432/500\n",
            "774/774 [==============================] - 7s 9ms/step - loss: 1.8136e-04 - accuracy: 0.9997 - val_loss: 0.5501 - val_accuracy: 0.9585\n",
            "Epoch 433/500\n",
            "774/774 [==============================] - 7s 10ms/step - loss: 1.8159e-04 - accuracy: 0.9997 - val_loss: 0.5129 - val_accuracy: 0.9593\n",
            "Epoch 434/500\n",
            "774/774 [==============================] - 7s 9ms/step - loss: 1.8162e-04 - accuracy: 0.9997 - val_loss: 0.5231 - val_accuracy: 0.9593\n",
            "Epoch 435/500\n",
            "774/774 [==============================] - 7s 9ms/step - loss: 1.8147e-04 - accuracy: 0.9999 - val_loss: 0.5334 - val_accuracy: 0.9581\n",
            "Epoch 436/500\n",
            "774/774 [==============================] - 7s 9ms/step - loss: 1.8163e-04 - accuracy: 0.9997 - val_loss: 0.5397 - val_accuracy: 0.9581\n",
            "Epoch 437/500\n",
            "774/774 [==============================] - 7s 9ms/step - loss: 1.8113e-04 - accuracy: 0.9999 - val_loss: 0.5475 - val_accuracy: 0.9581\n",
            "Epoch 438/500\n",
            "774/774 [==============================] - 7s 9ms/step - loss: 1.8122e-04 - accuracy: 0.9997 - val_loss: 0.5549 - val_accuracy: 0.9577\n",
            "Epoch 439/500\n",
            "774/774 [==============================] - 7s 9ms/step - loss: 1.8137e-04 - accuracy: 0.9999 - val_loss: 0.5609 - val_accuracy: 0.9577\n",
            "Epoch 440/500\n",
            "774/774 [==============================] - 7s 9ms/step - loss: 1.8148e-04 - accuracy: 0.9999 - val_loss: 0.5173 - val_accuracy: 0.9597\n",
            "Epoch 441/500\n",
            "774/774 [==============================] - 7s 9ms/step - loss: 1.8132e-04 - accuracy: 0.9997 - val_loss: 0.5252 - val_accuracy: 0.9593\n",
            "Epoch 442/500\n",
            "774/774 [==============================] - 7s 9ms/step - loss: 1.8148e-04 - accuracy: 0.9999 - val_loss: 0.5344 - val_accuracy: 0.9593\n",
            "Epoch 443/500\n",
            "774/774 [==============================] - 5s 6ms/step - loss: 1.8164e-04 - accuracy: 0.9997 - val_loss: 0.5424 - val_accuracy: 0.9585\n",
            "Epoch 444/500\n",
            "774/774 [==============================] - 4s 5ms/step - loss: 1.8140e-04 - accuracy: 0.9997 - val_loss: 0.5395 - val_accuracy: 0.9581\n",
            "Epoch 445/500\n",
            "774/774 [==============================] - 5s 6ms/step - loss: 1.8169e-04 - accuracy: 0.9997 - val_loss: 0.5435 - val_accuracy: 0.9581\n",
            "Epoch 446/500\n",
            "774/774 [==============================] - 5s 6ms/step - loss: 1.8120e-04 - accuracy: 0.9999 - val_loss: 0.5478 - val_accuracy: 0.9581\n",
            "Epoch 447/500\n",
            "774/774 [==============================] - 5s 6ms/step - loss: 1.8167e-04 - accuracy: 0.9997 - val_loss: 0.5514 - val_accuracy: 0.9581\n",
            "Epoch 448/500\n",
            "774/774 [==============================] - 4s 5ms/step - loss: 1.8142e-04 - accuracy: 0.9999 - val_loss: 0.5579 - val_accuracy: 0.9581\n",
            "Epoch 449/500\n",
            "774/774 [==============================] - 4s 5ms/step - loss: 1.8118e-04 - accuracy: 0.9997 - val_loss: 0.5639 - val_accuracy: 0.9581\n",
            "Epoch 450/500\n",
            "774/774 [==============================] - 4s 6ms/step - loss: 1.8136e-04 - accuracy: 0.9997 - val_loss: 0.5687 - val_accuracy: 0.9577\n",
            "Epoch 451/500\n",
            "774/774 [==============================] - 4s 6ms/step - loss: 1.8157e-04 - accuracy: 0.9997 - val_loss: 0.5748 - val_accuracy: 0.9577\n",
            "Epoch 452/500\n",
            "774/774 [==============================] - 4s 5ms/step - loss: 1.8147e-04 - accuracy: 0.9999 - val_loss: 0.5813 - val_accuracy: 0.9573\n",
            "Epoch 453/500\n",
            "774/774 [==============================] - 4s 6ms/step - loss: 1.8165e-04 - accuracy: 0.9999 - val_loss: 0.5880 - val_accuracy: 0.9573\n",
            "Epoch 454/500\n",
            "774/774 [==============================] - 4s 6ms/step - loss: 1.8157e-04 - accuracy: 0.9999 - val_loss: 0.5891 - val_accuracy: 0.9573\n",
            "Epoch 455/500\n",
            "774/774 [==============================] - 5s 6ms/step - loss: 1.8115e-04 - accuracy: 0.9997 - val_loss: 0.5931 - val_accuracy: 0.9573\n",
            "Epoch 456/500\n",
            "774/774 [==============================] - 5s 6ms/step - loss: 1.8196e-04 - accuracy: 0.9999 - val_loss: 0.5927 - val_accuracy: 0.9573\n",
            "Epoch 457/500\n",
            "774/774 [==============================] - 5s 6ms/step - loss: 1.8121e-04 - accuracy: 0.9999 - val_loss: 0.5554 - val_accuracy: 0.9585\n",
            "Epoch 458/500\n",
            "774/774 [==============================] - 4s 6ms/step - loss: 1.8171e-04 - accuracy: 0.9999 - val_loss: 0.5586 - val_accuracy: 0.9581\n",
            "Epoch 459/500\n",
            "774/774 [==============================] - 5s 6ms/step - loss: 1.8161e-04 - accuracy: 0.9999 - val_loss: 0.5615 - val_accuracy: 0.9581\n",
            "Epoch 460/500\n",
            "774/774 [==============================] - 5s 6ms/step - loss: 1.8126e-04 - accuracy: 0.9999 - val_loss: 0.5640 - val_accuracy: 0.9581\n",
            "Epoch 461/500\n",
            "774/774 [==============================] - 5s 6ms/step - loss: 1.8137e-04 - accuracy: 0.9999 - val_loss: 0.5665 - val_accuracy: 0.9581\n",
            "Epoch 462/500\n",
            "774/774 [==============================] - 6s 8ms/step - loss: 1.8133e-04 - accuracy: 0.9999 - val_loss: 0.5692 - val_accuracy: 0.9581\n",
            "Epoch 463/500\n",
            "774/774 [==============================] - 7s 8ms/step - loss: 1.8088e-04 - accuracy: 0.9999 - val_loss: 0.5711 - val_accuracy: 0.9581\n",
            "Epoch 464/500\n",
            "774/774 [==============================] - 6s 8ms/step - loss: 1.8164e-04 - accuracy: 0.9999 - val_loss: 0.5739 - val_accuracy: 0.9581\n",
            "Epoch 465/500\n",
            "774/774 [==============================] - 7s 9ms/step - loss: 1.8140e-04 - accuracy: 0.9999 - val_loss: 0.5761 - val_accuracy: 0.9581\n",
            "Epoch 466/500\n",
            "774/774 [==============================] - 8s 10ms/step - loss: 1.8156e-04 - accuracy: 0.9999 - val_loss: 0.5782 - val_accuracy: 0.9581\n",
            "Epoch 467/500\n",
            "774/774 [==============================] - 7s 10ms/step - loss: 1.8130e-04 - accuracy: 0.9999 - val_loss: 0.5805 - val_accuracy: 0.9581\n",
            "Epoch 468/500\n",
            "774/774 [==============================] - 7s 9ms/step - loss: 1.8138e-04 - accuracy: 0.9999 - val_loss: 0.5830 - val_accuracy: 0.9581\n",
            "Epoch 469/500\n",
            "774/774 [==============================] - 7s 10ms/step - loss: 1.8130e-04 - accuracy: 0.9999 - val_loss: 0.5863 - val_accuracy: 0.9581\n",
            "Epoch 470/500\n",
            "774/774 [==============================] - 7s 9ms/step - loss: 1.8149e-04 - accuracy: 0.9999 - val_loss: 0.5895 - val_accuracy: 0.9577\n",
            "Epoch 471/500\n",
            "774/774 [==============================] - 7s 9ms/step - loss: 1.8167e-04 - accuracy: 0.9999 - val_loss: 0.5944 - val_accuracy: 0.9577\n",
            "Epoch 472/500\n",
            "774/774 [==============================] - 7s 9ms/step - loss: 1.8118e-04 - accuracy: 0.9999 - val_loss: 0.5971 - val_accuracy: 0.9573\n",
            "Epoch 473/500\n",
            "774/774 [==============================] - 7s 9ms/step - loss: 1.8126e-04 - accuracy: 0.9999 - val_loss: 0.6003 - val_accuracy: 0.9573\n",
            "Epoch 474/500\n",
            "774/774 [==============================] - 7s 9ms/step - loss: 1.8128e-04 - accuracy: 0.9999 - val_loss: 0.6036 - val_accuracy: 0.9573\n",
            "Epoch 475/500\n",
            "774/774 [==============================] - 7s 10ms/step - loss: 1.8132e-04 - accuracy: 0.9999 - val_loss: 0.6062 - val_accuracy: 0.9570\n",
            "Epoch 476/500\n",
            "774/774 [==============================] - 8s 10ms/step - loss: 1.8118e-04 - accuracy: 0.9999 - val_loss: 0.6090 - val_accuracy: 0.9570\n",
            "Epoch 477/500\n",
            "774/774 [==============================] - 7s 9ms/step - loss: 1.8140e-04 - accuracy: 0.9999 - val_loss: 0.6128 - val_accuracy: 0.9570\n",
            "Epoch 478/500\n",
            "774/774 [==============================] - 8s 10ms/step - loss: 1.8124e-04 - accuracy: 0.9999 - val_loss: 0.6162 - val_accuracy: 0.9566\n",
            "Epoch 479/500\n",
            "774/774 [==============================] - 8s 10ms/step - loss: 1.8132e-04 - accuracy: 0.9999 - val_loss: 0.6200 - val_accuracy: 0.9562\n",
            "Epoch 480/500\n",
            "774/774 [==============================] - 8s 10ms/step - loss: 1.8161e-04 - accuracy: 0.9999 - val_loss: 0.6247 - val_accuracy: 0.9562\n",
            "Epoch 481/500\n",
            "774/774 [==============================] - 7s 9ms/step - loss: 1.8060e-04 - accuracy: 0.9999 - val_loss: 0.6281 - val_accuracy: 0.9562\n",
            "Epoch 482/500\n",
            "774/774 [==============================] - 8s 10ms/step - loss: 1.8150e-04 - accuracy: 0.9999 - val_loss: 0.6327 - val_accuracy: 0.9558\n",
            "Epoch 483/500\n",
            "774/774 [==============================] - 8s 10ms/step - loss: 1.8151e-04 - accuracy: 0.9999 - val_loss: 0.6366 - val_accuracy: 0.9558\n",
            "Epoch 484/500\n",
            "774/774 [==============================] - 8s 11ms/step - loss: 1.8117e-04 - accuracy: 0.9999 - val_loss: 0.6414 - val_accuracy: 0.9558\n",
            "Epoch 485/500\n",
            "774/774 [==============================] - 8s 10ms/step - loss: 1.8139e-04 - accuracy: 0.9999 - val_loss: 0.6452 - val_accuracy: 0.9554\n",
            "Epoch 486/500\n",
            "774/774 [==============================] - 8s 10ms/step - loss: 1.8156e-04 - accuracy: 0.9999 - val_loss: 0.6505 - val_accuracy: 0.9546\n",
            "Epoch 487/500\n",
            "774/774 [==============================] - 7s 10ms/step - loss: 1.8148e-04 - accuracy: 0.9999 - val_loss: 0.6545 - val_accuracy: 0.9546\n",
            "Epoch 488/500\n",
            "774/774 [==============================] - 7s 10ms/step - loss: 1.8128e-04 - accuracy: 0.9999 - val_loss: 0.6052 - val_accuracy: 0.9566\n",
            "Epoch 489/500\n",
            "774/774 [==============================] - 7s 9ms/step - loss: 1.8173e-04 - accuracy: 0.9997 - val_loss: 0.6102 - val_accuracy: 0.9566\n",
            "Epoch 490/500\n",
            "774/774 [==============================] - 8s 10ms/step - loss: 1.8133e-04 - accuracy: 0.9997 - val_loss: 0.6153 - val_accuracy: 0.9566\n",
            "Epoch 491/500\n",
            "774/774 [==============================] - 7s 10ms/step - loss: 1.8144e-04 - accuracy: 0.9997 - val_loss: 0.6206 - val_accuracy: 0.9566\n",
            "Epoch 492/500\n",
            "774/774 [==============================] - 8s 10ms/step - loss: 1.8122e-04 - accuracy: 0.9997 - val_loss: 0.6262 - val_accuracy: 0.9566\n",
            "Epoch 493/500\n",
            "774/774 [==============================] - 8s 10ms/step - loss: 1.8119e-04 - accuracy: 0.9999 - val_loss: 0.6309 - val_accuracy: 0.9562\n",
            "Epoch 494/500\n",
            "774/774 [==============================] - 7s 9ms/step - loss: 1.8126e-04 - accuracy: 0.9999 - val_loss: 0.6358 - val_accuracy: 0.9562\n",
            "Epoch 495/500\n",
            "774/774 [==============================] - 7s 9ms/step - loss: 1.8133e-04 - accuracy: 0.9999 - val_loss: 0.6413 - val_accuracy: 0.9562\n",
            "Epoch 496/500\n",
            "774/774 [==============================] - 8s 10ms/step - loss: 1.8125e-04 - accuracy: 0.9999 - val_loss: 0.6572 - val_accuracy: 0.9542\n",
            "Epoch 497/500\n",
            "774/774 [==============================] - 8s 10ms/step - loss: 1.8837e-04 - accuracy: 0.9997 - val_loss: 0.6061 - val_accuracy: 0.9562\n",
            "Epoch 498/500\n",
            "774/774 [==============================] - 7s 10ms/step - loss: 1.8169e-04 - accuracy: 0.9999 - val_loss: 0.5965 - val_accuracy: 0.9562\n",
            "Epoch 499/500\n",
            "774/774 [==============================] - 8s 10ms/step - loss: 1.8233e-04 - accuracy: 0.9997 - val_loss: 0.6068 - val_accuracy: 0.9562\n",
            "Epoch 500/500\n",
            "774/774 [==============================] - 7s 10ms/step - loss: 1.8252e-04 - accuracy: 0.9997 - val_loss: 0.5935 - val_accuracy: 0.9566\n"
          ]
        }
      ]
    },
    {
      "cell_type": "markdown",
      "source": [
        "##P4. viendo grafica de entrenamiento"
      ],
      "metadata": {
        "id": "8p90V_q-Lv3K"
      }
    },
    {
      "cell_type": "code",
      "source": [
        "import matplotlib.pyplot as plt\n",
        "plt.style.use('ggplot') # \n",
        "\n",
        "def plot_history(history):\n",
        "    acc = history.history['accuracy']\n",
        "    val_acc = history.history['val_accuracy']\n",
        "    loss = history.history['loss']\n",
        "    val_loss = history.history['val_loss']\n",
        "    x = range(1, len(acc) + 1)\n",
        "    plt.figure(figsize=(12, 5))\n",
        "    plt.subplot(1, 2, 1)\n",
        "    plt.plot(x, acc, 'b', label='Validacion prec')\n",
        "    plt.plot(x, val_acc, 'r', label='Entrenamiento prec')\n",
        "    plt.title('Precision Validacion y Entrenamiento')\n",
        "    plt.legend()\n",
        "    plt.subplot(1, 2, 2)\n",
        "    plt.plot(x, loss, 'b', label='Perdida Validacion')\n",
        "    plt.plot(x, val_loss, 'r', label='Perdida Entrenamiento')\n",
        "    plt.title('Perdida Validacion y Entrenamiento')\n",
        "    plt.legend()\n",
        "    plt.show()\n",
        "plot_history(history)"
      ],
      "metadata": {
        "colab": {
          "base_uri": "https://localhost:8080/",
          "height": 337
        },
        "id": "oqAJq84OLzdQ",
        "outputId": "35e5537c-34c6-467e-8625-c53346870562"
      },
      "execution_count": 36,
      "outputs": [
        {
          "output_type": "display_data",
          "data": {
            "text/plain": [
              "<Figure size 864x360 with 2 Axes>"
            ],
            "image/png": "[encoded data removed]"
          },
          "metadata": {}
        }
      ]
    },
    {
      "cell_type": "markdown",
      "source": [
        "##P5.evaluar el modelo (presición)"
      ],
      "metadata": {
        "id": "XXwbz6UjMWti"
      }
    },
    {
      "cell_type": "code",
      "source": [
        "loss, accuracy = model.evaluate(X_train, y_train, verbose=False)\n",
        "print(\"Precisión Prueba: {:.4f}\".format(accuracy))\n",
        "loss, accuracy = model.evaluate(X_test, y_test, verbose=False)\n",
        "print(\"Precisión Entrenamiento:  {:.4f}\".format(accuracy))"
      ],
      "metadata": {
        "colab": {
          "base_uri": "https://localhost:8080/"
        },
        "id": "3WHd465MMaGc",
        "outputId": "a5d46059-5d7a-4fcc-c207-9827cebbd2ab"
      },
      "execution_count": 38,
      "outputs": [
        {
          "output_type": "stream",
          "name": "stdout",
          "text": [
            "Precisión Prueba: 0.9999\n",
            "Precisión Entrenamiento:  0.9566\n"
          ]
        }
      ]
    },
    {
      "cell_type": "markdown",
      "source": [
        "##P6. haciendo predicciones"
      ],
      "metadata": {
        "id": "7DJJvRY5OyPg"
      }
    },
    {
      "cell_type": "code",
      "source": [
        "oracion = ['I love spontaneous road trips']\n",
        "X_prueba = vectorizerNew.transform(oracion)  #convertimos la oración al array del bagword\n",
        "\n",
        "#print('vector:',X_prueba[0].toarray())\n",
        "predict=model.predict(X_prueba)\n",
        "print(oracion,', The sentiment is :',predict)"
      ],
      "metadata": {
        "colab": {
          "base_uri": "https://localhost:8080/"
        },
        "id": "lqknCTruO104",
        "outputId": "b634f877-9471-4b64-8952-5e7d37e4448f"
      },
      "execution_count": 58,
      "outputs": [
        {
          "output_type": "stream",
          "name": "stdout",
          "text": [
            "['I love spontaneous road trips'] , The sentiment is : [[0.49544185]]\n"
          ]
        }
      ]
    },
    {
      "cell_type": "markdown",
      "source": [
        "##p7.Exportar Modelo y Vocabulario\n"
      ],
      "metadata": {
        "id": "JPM_E_Bv8_b3"
      }
    },
    {
      "cell_type": "code",
      "source": [
        "model.save('PLN_SENTIMENT.h5');"
      ],
      "metadata": {
        "id": "x4w1VEtR9QwG"
      },
      "execution_count": 59,
      "outputs": []
    }
  ]
}